{
 "cells": [
  {
   "cell_type": "markdown",
   "id": "b17ca841",
   "metadata": {},
   "source": [
    "# Mitigating Customer Attrition at Telcoco\n",
    "\n",
    "> ####  By Stephen Kipkurui 2022-03-13"
   ]
  },
  {
   "cell_type": "markdown",
   "id": "723793bf",
   "metadata": {},
   "source": [
    "# Project Goal\n",
    "\n",
    "\n",
    ">### This project aims to statistically explore and formulate the factors that contribute to observed increase in customer churning at TelCoCo with a main focus to answer the question '..why are customers parting ways with company services?' Inferred findings are to be used in advicing possible measures to be implemented to reduce the current customer loss rate. "
   ]
  },
  {
   "cell_type": "markdown",
   "id": "454c4865",
   "metadata": {},
   "source": [
    "# Project Description\n",
    "\n",
    "> ### Untill recently, business solutions were not solely based on infomation sourced from data. However, this pattern of thinking is rapidly changing and more and more companies are adapting to the idea of inferring meaning and descisions from data- including our competitors. Therefore it is paramount that we complie to change also and adapt applications of statistics and computer science in understanding our customer's behaviors. In this particular case- an observed increase in customer attrition as observed by the sales department. Key features to be modeled in this project are:\n",
    " >- Relationships of churned customers among the varius classifications of our key services\n",
    " >- Whether our pricing, payment methods offered and length of tenure creates a pettern with attrition\n",
    " >- How other factors directly related to the customer such as whether if they are senior citizens or not, what if they have dependents or not affect these observations \n"
   ]
  },
  {
   "cell_type": "markdown",
   "id": "638a7218",
   "metadata": {},
   "source": [
    "# Exploratory Questions\n",
    "\n",
    "### This project aims to understand relationship guided by the following questions:\n",
    "\n",
    ">-  ####  Do customers with multiple phone lines churn more compared to customer with only one line? Following up to ths question, what difference does the length of tenure and type of payment has on these customers?  \n",
    "\n",
    ">-  #### What if they have packaged internet services too, what relationship can we infer from customers with both services in relationship with their monthly and total charges?\n",
    "\n",
    ">-  #### Have these customers contacted the customer support to have their issues addressed? Are those that have contacted customer suppport less likely to churn than those that did not? \n",
    "\n",
    "\n",
    "\n"
   ]
  },
  {
   "cell_type": "markdown",
   "id": "5d76c8db",
   "metadata": {},
   "source": [
    "# Data Dictionary"
   ]
  },
  {
   "cell_type": "code",
   "execution_count": null,
   "id": "5fbbd79d",
   "metadata": {},
   "outputs": [],
   "source": []
  },
  {
   "cell_type": "markdown",
   "id": "38a90ff8",
   "metadata": {},
   "source": [
    "# Explorary Telco Data Analysis\n",
    "\n",
    ">#### Data in this project was freshly acquired from TelCoCo online database resource- **telco_churn db** on Thursday, March 10, 2022: 10:00am CST. A copy cached in local machine for ease of access. Database tables resourced are: (customers, internet_service_types, contract_types, customer_contracts, customer payments, and payment_types). \n",
    "\n",
    "***\n",
    "SELECT  c.customer_id, c.churn, c.gender, c.tenure, c.partner, c.senior_citizen, \n",
    "            c.dependents, c.phone_service, c.multiple_lines, ist.internet_service_type,  \n",
    "            ct.contract_type, cc.paperless_billing, c.tech_support, cp.monthly_charges, \n",
    "            cp.total_charges, pt.payment_type\n",
    "            \n",
    "FROM customers c\n",
    "                \n",
    "   JOIN internet_service_types ist  USING (internet_service_type_id)\n",
    "   JOIN contract_types ct USING (contract_type_id)\n",
    "   JOIN customer_contracts cc USING (customer_id)\n",
    "   JOIN customer_payments cp USING (payment_type_id)\n",
    "   JOIN payment_types pt USING (payment_type_id);\n",
    "***\n",
    " "
   ]
  },
  {
   "cell_type": "code",
   "execution_count": null,
   "id": "a1d3ae01",
   "metadata": {},
   "outputs": [],
   "source": []
  },
  {
   "cell_type": "code",
   "execution_count": null,
   "id": "58de775b",
   "metadata": {},
   "outputs": [],
   "source": []
  },
  {
   "cell_type": "code",
   "execution_count": null,
   "id": "7c9e5a49",
   "metadata": {},
   "outputs": [],
   "source": []
  }
 ],
 "metadata": {
  "kernelspec": {
   "display_name": "Python 3 (ipykernel)",
   "language": "python",
   "name": "python3"
  },
  "language_info": {
   "codemirror_mode": {
    "name": "ipython",
    "version": 3
   },
   "file_extension": ".py",
   "mimetype": "text/x-python",
   "name": "python",
   "nbconvert_exporter": "python",
   "pygments_lexer": "ipython3",
   "version": "3.9.7"
  }
 },
 "nbformat": 4,
 "nbformat_minor": 5
}
