{
 "cells": [
  {
   "cell_type": "markdown",
   "id": "b17ca841",
   "metadata": {},
   "source": [
    "# Mitigating Customer Attrition at Telcoco\n",
    "\n",
    "> ####  By Stephen Kipkurui 2022-03-13"
   ]
  },
  {
   "cell_type": "markdown",
   "id": "723793bf",
   "metadata": {},
   "source": [
    "## Project Goal\n",
    "\n",
    "\n",
    ">### This project aims to statistically explore and formulate the factors that contribute to observed increase in customer churning at TelCoCo with a main focus to answer the question '..why are customers parting ways with company services?' Inferred findings are to be used in advicing possible measures to be implemented to reduce the current customer loss rate. "
   ]
  },
  {
   "cell_type": "markdown",
   "id": "454c4865",
   "metadata": {},
   "source": [
    "## Project Description\n",
    "\n",
    "> ### Untill recently, business solutions were not solely based on infomation sourced from data. However, this pattern of thinking is rapidly changing and more and more companies are adapting to the idea of inferring meaning and descisions from data- including our competitors. Therefore it is paramount that we complie to change also and adapt applications of statistics and computer science in understanding our customer's behaviors. In this particular case- an observed increase in customer attrition as observed by the sales department. Key features to be modeled in this project are:\n",
    " >- Relationships of churned customers among the varius classifications of our key services\n",
    " >- Whether our pricing, payment methods offered and length of tenure creates a pettern with attrition\n",
    " >- How other factors directly related to the customer such as whether if they are senior citizens or not, what if they have dependents or not affect these observations \n"
   ]
  },
  {
   "cell_type": "markdown",
   "id": "638a7218",
   "metadata": {},
   "source": [
    "## Exploratory Questions\n",
    "\n",
    "### This project aims to understand relationship guided by the following questions:\n",
    "\n",
    ">-  ####  Do customers with multiple phone lines churn more compared to customer with only one line? Following up to ths question, what difference does the length of tenure and type of payment has on these customers?  \n",
    "\n",
    ">-  #### What if they have packaged internet services too, what relationship can we infer from customers with both services in relationship with their monthly and total charges?\n",
    "\n",
    ">-  #### Have these customers contacted the customer support to have their issues addressed? Are those that have contacted customer suppport less likely to churn than those that did not? \n",
    "\n",
    "\n",
    "\n"
   ]
  },
  {
   "cell_type": "markdown",
   "id": "5d76c8db",
   "metadata": {},
   "source": [
    "## Data Dictionary"
   ]
  },
  {
   "cell_type": "markdown",
   "id": "38a90ff8",
   "metadata": {},
   "source": [
    "## Explorary Telco Data Analysis\n",
    "\n",
    ">#### Data in this project was freshly acquired from TelCoCo online database resource- **telco_churn db** on Thursday, March 10, 2022: 10:00am CST. A copy cached in local machine for ease of access. Database tables resourced are: (customers, internet_service_types, contract_types, customer_contracts, customer payments, and payment_types). \n",
    "\n",
    "***\n",
    "SELECT  c.customer_id, c.churn, c.gender, c.tenure, c.partner, c.senior_citizen, \n",
    "            c.dependents, c.phone_service, c.multiple_lines, ist.internet_service_type,  \n",
    "            ct.contract_type, cc.paperless_billing, c.tech_support, cp.monthly_charges, \n",
    "            cp.total_charges, pt.payment_type\n",
    "            \n",
    "FROM customers c\n",
    "                \n",
    "   JOIN internet_service_types ist  USING (internet_service_type_id)\n",
    "   JOIN contract_types ct USING (contract_type_id)\n",
    "   JOIN customer_contracts cc USING (customer_id)\n",
    "   JOIN customer_payments cp USING (payment_type_id)\n",
    "   JOIN payment_types pt USING (payment_type_id);\n",
    "***\n",
    " "
   ]
  },
  {
   "cell_type": "markdown",
   "id": "a8c8029b",
   "metadata": {},
   "source": [
    "Call the __acquireTelco.py__ module and get the data from online database through the __get_telco_data()__ function\n",
    "\n",
    "\n",
    ">- telco = acquireTelco.get_telco_data() "
   ]
  },
  {
   "cell_type": "markdown",
   "id": "15723cd4",
   "metadata": {},
   "source": [
    "## Data cleaning:\n",
    "\n",
    "#### First, created a module prepareTelco.py with a clean_split_telco_data() function that calls the other functions in the module to clean data(drop unnecessary columns), encode the categorical data into numeric data, change total_charges column datatype from object to floating point format, and lastly split the data as train, validate, and test subsets. Data sized in ratio: test: 20%, train and validate: 80%. (Train subset: 56% and validate: 24%)"
   ]
  },
  {
   "cell_type": "markdown",
   "id": "41d9718a",
   "metadata": {},
   "source": [
    "###  Data encoding Key:\n",
    "\n",
    "###  Binary data - (churn, partner, dependents, phone_service, paperless_billing):\n",
    "\n",
    ">- #### 'Yes' == 1 & 'No' == 0\n",
    "\n",
    "###  Multivariate Data - (payment_type, contract_type, internet_service_type)\n",
    "\n",
    ">- #### 'Electronic check' == 1, 'Mailed check' == 2, 'Bank transfer (automatic)' == 3, 'Credit card (automatic)' == 4\n",
    "\n",
    ">- ####  'Month-to-month' == 1, 'One_year' == 2, 'Two_year' == 3\n",
    "\n",
    ">- ####  'DSL' == 1, 'Fiber_optic' == 2, 'None' == 3\n",
    "    "
   ]
  },
  {
   "cell_type": "markdown",
   "id": "849ab0be",
   "metadata": {},
   "source": [
    "### train, validate, test = clean_split_telco_data(telco)\n",
    "\n",
    "\n",
    "\n",
    "Split ratios:\n",
    "\n",
    "\tTrain Data: (5497669, 14) (exploratory data analysis dataset)\n",
    "\tValidate Data:(2463974, 14) (check for overfitting on the train dataset)\n",
    "\tTest Data: (2064720, 14) (predict unseen data behaviour)\n",
    "    \n",
    "    \n",
    "    A copy of the train, validate and split data was saved in separate files. This is to allow faster program excecution calling the train data direcly. Later in the program, valiidate and test data are to be called from their files respectively."
   ]
  },
  {
   "cell_type": "markdown",
   "id": "675d158c",
   "metadata": {},
   "source": [
    "## Initial observation on our data:"
   ]
  },
  {
   "cell_type": "markdown",
   "id": "05a04130",
   "metadata": {},
   "source": [
    "#### On performing visualizations and running python code to determine churning drive factors, it is determined that churning is hightest within the paperless billing group at 72.47% vs non-churn of 55.71%. Therefore we narrowed my focus to understanding the cause of these observations. \n",
    "\n",
    "#### In addition, I examined churning among the phone users and determined the rate of churn and non-churn is equal. Eventhough important, it is worth examining in the future project. This project will focus on the paperless billing churning henceforth. My initial hypothesis is as follows:\n",
    "\n",
    "### HO: Mean of churned customers using paperless billing = mean of non-churned customers not using paperless billing.\n",
    "\n",
    "### H!: Mean of churned customers using paperless billing > mean of non-churned customers not using paperless billing.\n"
   ]
  },
  {
   "cell_type": "markdown",
   "id": "87838d52",
   "metadata": {},
   "source": [
    "## Statistical Test \n",
    "\n",
    "\n",
    "##### NOTE: For a 2-tailed test, we take the p-value as is. For a 1-tailed test, we evaluate (p / 2 < α)  and t > 0  (to test if higher), and of a less-than test when (p / 2) < α and t < 0."
   ]
  },
  {
   "cell_type": "markdown",
   "id": "49e52fdf",
   "metadata": {},
   "source": [
    "#### This test adapted the independent t-test (one sample) for our analytical evaluation with alpha set at 0.05 confidence level.\n",
    "\n",
    "\n",
    "Since the variance is not the same, we'll use equal_var = False method.\n",
    "\n",
    "print(f'\\n\\tChurned Sample Variances: {churn_paperless_sample.var()}\\n')\n",
    "\n",
    "print(f'\\tNon-Churned Sample Variances: {no_churn_paperless_sample.var()}\\n')\n",
    "\n",
    "#### T-test\n",
    "t, p = stats.ttest_ind(churn_paperless_sample, no_churn_paperless_sample, equal_var=False)\n",
    "\n",
    "print()\n",
    "\n",
    "print(f'\\tT-value: {t} \\n\\n\\tP-value: {p}\\n')\n",
    "\n",
    "# Evaluate the hypothesis\n",
    "HO = 'Mean of churned customers using paperless billing  = mean of non-churned customers not using paperless billing'\n",
    "\n",
    "H1 = 'Mean of churned customers using paperless billing  > mean of non-churned customers not using paperless billing'\n",
    "\n",
    "if (p) > alpha:\n",
    "    \n",
    "    print(f'\\tFailed to reject HO:-> \\n\\n{HO}')\n",
    "    \n",
    "elif t < 0:\n",
    "    \n",
    "    print(f'\\tFailed to reject HO:-> \\n\\n{HO}')\n",
    "    \n",
    "else:\n",
    "    print()\n",
    "    print(f'\\tWe reject HO (Accept H1):-> \\n\\n{HO}')\n",
    "    \n",
    "    \n",
    "    print('\\n\\n\\nAdapted hypothesis:\\n')\n",
    "    print(f'= [ {H1} ]\\n')\n"
   ]
  },
  {
   "cell_type": "markdown",
   "id": "ba71cb5d",
   "metadata": {},
   "source": [
    "### Model Results"
   ]
  },
  {
   "cell_type": "markdown",
   "id": "b8f3261f",
   "metadata": {},
   "source": [
    "We reject HO (Accept H1):-> \n",
    "\n",
    "Mean of churned customers using paperless billing  = mean of non-churned customers not using paperless billing\n",
    "\n",
    "\n",
    "\n",
    "## Adapted hypothesis:\n",
    "\n",
    "####  Mean of churned customers using paperless billing  > mean of non-churned customers not using paperless billing\n"
   ]
  },
  {
   "cell_type": "markdown",
   "id": "33879ca0",
   "metadata": {},
   "source": [
    "#### How accurate is this evaluation or rather how sure am I about the hypothesis? \n",
    "\n",
    "#### I proceeded testing the paperless billing hypothesis by modeling. Key concepts to be determined are:\n",
    ">- #### Accuracy (the number of correct predictions over the number of total instances that have been evaluated)\n",
    ">- #### Precision (pin-point the positives within our observations)\n",
    ">- #### Recall (verification that our model did not miss the positives predictions)"
   ]
  },
  {
   "cell_type": "markdown",
   "id": "b13eee62",
   "metadata": {},
   "source": [
    "### Step I: Selected my paperless churn vs non-churn data from the train model"
   ]
  },
  {
   "cell_type": "code",
   "execution_count": null,
   "id": "cf99b144",
   "metadata": {},
   "outputs": [],
   "source": [
    "# Create churn and non_churn paperless series\n",
    "churn_paperless_bill = train_df.enc_churn[train_df.enc_paperless_billing == 1]\n",
    "non_churn_paperless_bill = train_df.enc_churn[train_df.enc_paperless_billing == 0]\n",
    "\n",
    "# convert to list\n",
    "churn_paperless_bill = churn_paperless_bill.tolist()\n",
    "non_churn_paperless_bill = non_churn_paperless_bill.tolist()\n",
    "\n",
    "# Convert the series into dataframe and give labels\n",
    "df_train = pd.DataFrame({'actual_paperless_bill_churn': [churn_paperless_bill],\n",
    "                        'predicted_paperless_bill_churn': [non_churn_paperless_bill]})\n",
    "\n",
    "df_train.head(5).T"
   ]
  },
  {
   "cell_type": "markdown",
   "id": "331b3b90",
   "metadata": {},
   "source": [
    "### Step II: Model the data on Evaluation models: Decision tree, Random Forest, and K-Nearest Neighbor\n",
    "\n",
    "\n",
    "#### NOTE: All models were fitted with the same features to determine the accuracy, precision, and recall. Remember data, already split into train, validate and test are collected from separated files in this section.\n",
    "\n",
    "\n",
    "\n",
    "All models followed the following process:\n",
    "\n",
    "(1). Import the required sklearn metrics\n",
    "\n",
    "(2). Create the respective decison tree object\n",
    "\n",
    "(3). Fit the model\n",
    "\n",
    "(4). Visualize the model\n",
    "\n",
    "(5). Make predictions\n",
    "\n",
    "(6). Estimate probability \n",
    "\n",
    "(7). Compute Acccuracy \n",
    "\n",
    "(8). Confusion matrix\n",
    "\n",
    "(9). Classification report\n",
    "\n",
    "(10). Evaluate our model with the out-of-sample data (validate data)\n",
    "\n",
    "\n",
    "#### Please refer to the customer_churn_telcoco.ipynb file under modeling for the code on this section."
   ]
  },
  {
   "cell_type": "markdown",
   "id": "3166603e",
   "metadata": {},
   "source": [
    "### Decision tree result:\n",
    "\n",
    "print(classification_report(y_train, y_pred))\n",
    "\n",
    "\n",
    " precision    recall  f1-score   support\n",
    "\n",
    "           0       0.76      1.00      0.86   4150754\n",
    "           1       0.00      0.00      0.00   1339039\n",
    "\n",
    "    accuracy                           0.76   5489793\n",
    "   macro avg       0.38      0.50      0.43   5489793\n",
    "weighted avg       0.57      0.76      0.65   5489793\n",
    "\n",
    "\n",
    "### Out-of-sample data:\n",
    "\n",
    "\n",
    "print('\\nAccuracy of Decision Tree classifier on validate set: {:.2f}\\n'\n",
    "     .format(clf.score(X_validate, y_validate)))\n",
    "     \n",
    "\n",
    "   Accuracy of Decision Tree classifier on validate set: __0.75__\n",
    "    "
   ]
  },
  {
   "cell_type": "markdown",
   "id": "a847242b",
   "metadata": {},
   "source": [
    "### Random forest result:\n",
    " "
   ]
  },
  {
   "cell_type": "markdown",
   "id": "02b21d31",
   "metadata": {},
   "source": [
    "print(classification_report(y_train_rf, y_pred_rf))\n",
    "\n",
    "              precision    recall  f1-score   support\n",
    "\n",
    "           0       0.76      1.00      0.86   4150754\n",
    "           1       0.00      0.00      0.00   1339039\n",
    "\n",
    "    accuracy                           0.76   5489793\n",
    "   macro avg       0.38      0.50      0.43   5489793\n",
    "weighted avg       0.57      0.76      0.65   5489793\n",
    "\n",
    "\n",
    "#### Validate model: Evaluate. Out-of-sample data:\n",
    "\n",
    "print('\\nAccuracy of random forest classifier on test set: {:.2f}\\n'\n",
    "     .format(rf.score(X_validate_rf, y_validate_rf)))\n",
    "     \n",
    "     \n",
    "Accuracy of random forest classifier on test set: __0.75__\n"
   ]
  },
  {
   "cell_type": "markdown",
   "id": "31a4b184",
   "metadata": {},
   "source": [
    "### K-Nearest neighbor result"
   ]
  },
  {
   "cell_type": "markdown",
   "id": "3d042f55",
   "metadata": {},
   "source": [
    "print(classification_report(y_train_knn, y_pred_knn))\n",
    "\n",
    "              precision    recall  f1-score   support\n",
    "\n",
    "           0       0.86      0.91      0.88   4150754\n",
    "           1       0.65      0.53      0.58   1339039\n",
    "\n",
    "    accuracy                           0.82   5489793\n",
    "   macro avg       0.75      0.72      0.73   5489793\n",
    "weighted avg       0.81      0.82      0.81   5489793\n",
    "\n",
    "\n",
    "#### Validate model: Evaluate. Out-of-sample data:\n",
    "\n",
    "print('\\nAccuracy of k-nearest neighbor classifier on test set: {:.2f}\\n'\n",
    "     .format(knn.score(X_validate_knn, y_validate_knn)))\n",
    "     \n",
    "     \n",
    "Accuracy of k-nearest neighbor classifier on test set: __0.74__\n",
    "\n"
   ]
  },
  {
   "cell_type": "markdown",
   "id": "50acb2e6",
   "metadata": {},
   "source": [
    "### Interpretation:"
   ]
  },
  {
   "cell_type": "markdown",
   "id": "423b5054",
   "metadata": {},
   "source": [
    "#### Remember Accuracy is the number of correct predictions over the number of total instances that have been evaluated\n",
    "\n",
    "\n",
    "Model 1 accuracy is 76%\n",
    "\n",
    "Model II accuracy is 76%\n",
    "\n",
    "Model III accuracy is 82%\n",
    "\n",
    "##### K-Nearest Neighbor model performed the best in this project at 82%"
   ]
  },
  {
   "cell_type": "markdown",
   "id": "2016bebf",
   "metadata": {},
   "source": [
    "## Recommendations:\n",
    "\n",
    "This project, confirms that the reported churn within Teco Company is true and part of this churning is observed with paperless billing. \n",
    "\n",
    "Offer customer paper billing and re-access churn after 6 months. "
   ]
  }
 ],
 "metadata": {
  "kernelspec": {
   "display_name": "Python 3 (ipykernel)",
   "language": "python",
   "name": "python3"
  },
  "language_info": {
   "codemirror_mode": {
    "name": "ipython",
    "version": 3
   },
   "file_extension": ".py",
   "mimetype": "text/x-python",
   "name": "python",
   "nbconvert_exporter": "python",
   "pygments_lexer": "ipython3",
   "version": "3.9.7"
  }
 },
 "nbformat": 4,
 "nbformat_minor": 5
}
