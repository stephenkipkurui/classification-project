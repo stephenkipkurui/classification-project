{
 "cells": [
  {
   "cell_type": "markdown",
   "id": "c17fa1e9",
   "metadata": {},
   "source": [
    "> # Innis Classification Project\n",
    ">>By Stephen Kipkurui\n",
    "\n",
    ">### Project Walk-through"
   ]
  },
  {
   "cell_type": "code",
   "execution_count": 180,
   "id": "a06e51c7",
   "metadata": {},
   "outputs": [],
   "source": [
    "# Python import libraries for statistical infference, manipulations and visualizations\n",
    "\n",
    "import pandas as pd\n",
    "import numpy as np\n",
    "import matplotlib.pyplot as plt\n",
    "import seaborn as sns\n",
    "\n",
    "\n",
    "import env\n",
    "import acquireTelco\n",
    "import prepareTelco\n",
    "\n",
    "from acquireTelco import get_telco_data\n",
    "from acquireTelco import clean_train_data\n",
    "from acquireTelco import clean_validate_data\n",
    "from acquireTelco import clean_test_data\n",
    "from prepareTelco import clean_split_telco_data\n",
    "\n",
    "\n",
    "import warnings\n",
    "warnings.filterwarnings('ignore')\n",
    "\n",
    "\n",
    "import scipy.stats as stats\n",
    "from sklearn.metrics import confusion_matrix\n",
    "from sklearn.tree import DecisionTreeClassifier, plot_tree\n",
    "from sklearn.metrics import classification_report\n",
    "from sklearn.model_selection import train_test_split\n",
    "from sklearn.ensemble import RandomForestClassifier\n",
    "from sklearn.neighbors import KNeighborsClassifier"
   ]
  },
  {
   "cell_type": "markdown",
   "id": "88223791",
   "metadata": {},
   "source": [
    "> ### Acquire the required data from telco_churn database and cache a local copy \n",
    "\n",
    "> ##### Date of acquire: 03/10/2022 - 10:00am"
   ]
  },
  {
   "cell_type": "code",
   "execution_count": 181,
   "id": "5e3727b7",
   "metadata": {},
   "outputs": [
    {
     "name": "stdout",
     "output_type": "stream",
     "text": [
      "\n",
      "\tProgram Status: Reading Raw Telco Data from a local cached csv file...\n"
     ]
    }
   ],
   "source": [
    "# Call acquire module and call function get_telco data to get telco data\n",
    "\n",
    "telco = acquireTelco.get_telco_data() "
   ]
  },
  {
   "cell_type": "markdown",
   "id": "f4f394ab",
   "metadata": {},
   "source": [
    "> ### Initial review of data, structures, types and columns "
   ]
  },
  {
   "cell_type": "code",
   "execution_count": 185,
   "id": "d6dd3e30",
   "metadata": {
    "scrolled": false
   },
   "outputs": [
    {
     "data": {
      "text/html": [
       "<div>\n",
       "<style scoped>\n",
       "    .dataframe tbody tr th:only-of-type {\n",
       "        vertical-align: middle;\n",
       "    }\n",
       "\n",
       "    .dataframe tbody tr th {\n",
       "        vertical-align: top;\n",
       "    }\n",
       "\n",
       "    .dataframe thead th {\n",
       "        text-align: right;\n",
       "    }\n",
       "</style>\n",
       "<table border=\"1\" class=\"dataframe\">\n",
       "  <thead>\n",
       "    <tr style=\"text-align: right;\">\n",
       "      <th></th>\n",
       "      <th>churn</th>\n",
       "      <th>gender</th>\n",
       "      <th>tenure</th>\n",
       "      <th>partner</th>\n",
       "      <th>senior_citizen</th>\n",
       "      <th>dependents</th>\n",
       "      <th>phone_service</th>\n",
       "      <th>multiple_lines</th>\n",
       "      <th>internet_service_type</th>\n",
       "      <th>contract_type</th>\n",
       "      <th>...</th>\n",
       "      <th>total_charges</th>\n",
       "      <th>payment_type</th>\n",
       "      <th>enc_churn</th>\n",
       "      <th>enc_partner</th>\n",
       "      <th>enc_dependents</th>\n",
       "      <th>enc_phone_service</th>\n",
       "      <th>enc_paperless_billing</th>\n",
       "      <th>enc_payment</th>\n",
       "      <th>enc_contract_type</th>\n",
       "      <th>enc_intenet_service_type</th>\n",
       "    </tr>\n",
       "  </thead>\n",
       "  <tbody>\n",
       "    <tr>\n",
       "      <th>0</th>\n",
       "      <td>No</td>\n",
       "      <td>Female</td>\n",
       "      <td>9</td>\n",
       "      <td>Yes</td>\n",
       "      <td>0</td>\n",
       "      <td>Yes</td>\n",
       "      <td>Yes</td>\n",
       "      <td>No</td>\n",
       "      <td>DSL</td>\n",
       "      <td>One year</td>\n",
       "      <td>...</td>\n",
       "      <td>542.40</td>\n",
       "      <td>Mailed check</td>\n",
       "      <td>0</td>\n",
       "      <td>1</td>\n",
       "      <td>1</td>\n",
       "      <td>1</td>\n",
       "      <td>1</td>\n",
       "      <td>2</td>\n",
       "      <td>2</td>\n",
       "      <td>1</td>\n",
       "    </tr>\n",
       "    <tr>\n",
       "      <th>1</th>\n",
       "      <td>No</td>\n",
       "      <td>Female</td>\n",
       "      <td>9</td>\n",
       "      <td>Yes</td>\n",
       "      <td>0</td>\n",
       "      <td>Yes</td>\n",
       "      <td>Yes</td>\n",
       "      <td>No</td>\n",
       "      <td>DSL</td>\n",
       "      <td>One year</td>\n",
       "      <td>...</td>\n",
       "      <td>593.30</td>\n",
       "      <td>Mailed check</td>\n",
       "      <td>0</td>\n",
       "      <td>1</td>\n",
       "      <td>1</td>\n",
       "      <td>1</td>\n",
       "      <td>1</td>\n",
       "      <td>2</td>\n",
       "      <td>2</td>\n",
       "      <td>1</td>\n",
       "    </tr>\n",
       "    <tr>\n",
       "      <th>2</th>\n",
       "      <td>No</td>\n",
       "      <td>Male</td>\n",
       "      <td>9</td>\n",
       "      <td>No</td>\n",
       "      <td>0</td>\n",
       "      <td>No</td>\n",
       "      <td>Yes</td>\n",
       "      <td>Yes</td>\n",
       "      <td>DSL</td>\n",
       "      <td>Month-to-month</td>\n",
       "      <td>...</td>\n",
       "      <td>542.40</td>\n",
       "      <td>Mailed check</td>\n",
       "      <td>0</td>\n",
       "      <td>0</td>\n",
       "      <td>0</td>\n",
       "      <td>1</td>\n",
       "      <td>0</td>\n",
       "      <td>2</td>\n",
       "      <td>1</td>\n",
       "      <td>1</td>\n",
       "    </tr>\n",
       "    <tr>\n",
       "      <th>3</th>\n",
       "      <td>No</td>\n",
       "      <td>Male</td>\n",
       "      <td>9</td>\n",
       "      <td>No</td>\n",
       "      <td>0</td>\n",
       "      <td>No</td>\n",
       "      <td>Yes</td>\n",
       "      <td>Yes</td>\n",
       "      <td>DSL</td>\n",
       "      <td>Month-to-month</td>\n",
       "      <td>...</td>\n",
       "      <td>593.30</td>\n",
       "      <td>Mailed check</td>\n",
       "      <td>0</td>\n",
       "      <td>0</td>\n",
       "      <td>0</td>\n",
       "      <td>1</td>\n",
       "      <td>0</td>\n",
       "      <td>2</td>\n",
       "      <td>1</td>\n",
       "      <td>1</td>\n",
       "    </tr>\n",
       "    <tr>\n",
       "      <th>4</th>\n",
       "      <td>Yes</td>\n",
       "      <td>Male</td>\n",
       "      <td>4</td>\n",
       "      <td>No</td>\n",
       "      <td>0</td>\n",
       "      <td>No</td>\n",
       "      <td>Yes</td>\n",
       "      <td>No</td>\n",
       "      <td>Fiber optic</td>\n",
       "      <td>Month-to-month</td>\n",
       "      <td>...</td>\n",
       "      <td>280.85</td>\n",
       "      <td>Electronic check</td>\n",
       "      <td>1</td>\n",
       "      <td>0</td>\n",
       "      <td>0</td>\n",
       "      <td>1</td>\n",
       "      <td>1</td>\n",
       "      <td>1</td>\n",
       "      <td>1</td>\n",
       "      <td>2</td>\n",
       "    </tr>\n",
       "  </tbody>\n",
       "</table>\n",
       "<p>5 rows × 23 columns</p>\n",
       "</div>"
      ],
      "text/plain": [
       "  churn  gender  tenure partner  senior_citizen dependents phone_service  \\\n",
       "0    No  Female       9     Yes               0        Yes           Yes   \n",
       "1    No  Female       9     Yes               0        Yes           Yes   \n",
       "2    No    Male       9      No               0         No           Yes   \n",
       "3    No    Male       9      No               0         No           Yes   \n",
       "4   Yes    Male       4      No               0         No           Yes   \n",
       "\n",
       "  multiple_lines internet_service_type   contract_type  ... total_charges  \\\n",
       "0             No                   DSL        One year  ...        542.40   \n",
       "1             No                   DSL        One year  ...        593.30   \n",
       "2            Yes                   DSL  Month-to-month  ...        542.40   \n",
       "3            Yes                   DSL  Month-to-month  ...        593.30   \n",
       "4             No           Fiber optic  Month-to-month  ...        280.85   \n",
       "\n",
       "       payment_type  enc_churn  enc_partner enc_dependents  enc_phone_service  \\\n",
       "0      Mailed check          0            1              1                  1   \n",
       "1      Mailed check          0            1              1                  1   \n",
       "2      Mailed check          0            0              0                  1   \n",
       "3      Mailed check          0            0              0                  1   \n",
       "4  Electronic check          1            0              0                  1   \n",
       "\n",
       "   enc_paperless_billing  enc_payment  enc_contract_type  \\\n",
       "0                      1            2                  2   \n",
       "1                      1            2                  2   \n",
       "2                      0            2                  1   \n",
       "3                      0            2                  1   \n",
       "4                      1            1                  1   \n",
       "\n",
       "   enc_intenet_service_type  \n",
       "0                         1  \n",
       "1                         1  \n",
       "2                         1  \n",
       "3                         1  \n",
       "4                         2  \n",
       "\n",
       "[5 rows x 23 columns]"
      ]
     },
     "execution_count": 185,
     "metadata": {},
     "output_type": "execute_result"
    }
   ],
   "source": [
    "# Examine the telco dataframe \n",
    "\n",
    "telco.head()"
   ]
  },
  {
   "cell_type": "code",
   "execution_count": 186,
   "id": "bcacecca",
   "metadata": {},
   "outputs": [
    {
     "name": "stdout",
     "output_type": "stream",
     "text": [
      "<class 'pandas.core.frame.DataFrame'>\n",
      "RangeIndex: 12892189 entries, 0 to 12892188\n",
      "Data columns (total 23 columns):\n",
      " #   Column                    Dtype  \n",
      "---  ------                    -----  \n",
      " 0   churn                     object \n",
      " 1   gender                    object \n",
      " 2   tenure                    int64  \n",
      " 3   partner                   object \n",
      " 4   senior_citizen            int64  \n",
      " 5   dependents                object \n",
      " 6   phone_service             object \n",
      " 7   multiple_lines            object \n",
      " 8   internet_service_type     object \n",
      " 9   contract_type             object \n",
      " 10  paperless_billing         object \n",
      " 11  tech_support              object \n",
      " 12  monthly_charges           float64\n",
      " 13  total_charges             float64\n",
      " 14  payment_type              object \n",
      " 15  enc_churn                 int64  \n",
      " 16  enc_partner               int64  \n",
      " 17  enc_dependents            int64  \n",
      " 18  enc_phone_service         int64  \n",
      " 19  enc_paperless_billing     int64  \n",
      " 20  enc_payment               int64  \n",
      " 21  enc_contract_type         int64  \n",
      " 22  enc_intenet_service_type  int64  \n",
      "dtypes: float64(2), int64(10), object(11)\n",
      "memory usage: 2.2+ GB\n"
     ]
    }
   ],
   "source": [
    "# Get datatype infomation on the telco data\n",
    "\n",
    "telco.info()"
   ]
  },
  {
   "cell_type": "markdown",
   "id": "7a90558d",
   "metadata": {},
   "source": [
    ">## Exploratory Data Analysis \n",
    "\n",
    ">#### PURPOSE:  - Explore data to discover driver(s) for churn  on our target variables \n",
    "\n",
    "\n",
    ">###  Clean, encode categorical data and split into train, validate, and test \n",
    "\n",
    "\n",
    "> #### Data encoding key:\n",
    ">#### Binary categorical data\n",
    ">>- ##### 'Yes' == 1 , 'No' == 0\n",
    ">#### Multivariate categorical data\n",
    ">>### Pay:\n",
    ">>- ##### 'Electronic pay' == 1 , 'Mailed check' == 2, 'Bank transfer' == 3, 'Credit card' == 4\n",
    ">### Contract type:\n",
    ">>- ##### 'Month-to-month' == 1 , 'One year contract' == 2, 'two-year_contract' == 3\n",
    ">- #### NOTE: prefix **'enc_name'** means encoded binary categorical data"
   ]
  },
  {
   "cell_type": "code",
   "execution_count": 187,
   "id": "f249ef01",
   "metadata": {},
   "outputs": [
    {
     "name": "stdout",
     "output_type": "stream",
     "text": [
      "\n",
      "\tTrain Data: (5497669, 14) \n",
      "\tValidate Data:(2463974, 14)\n",
      "\tTest Data: (2064720, 14)\n"
     ]
    }
   ],
   "source": [
    "# Split data and save separate files of train, validate, test\n",
    "\n",
    "train, validate, test = clean_split_telco_data(telco)\n",
    "\n",
    "# Verify split ratios \n",
    "\n",
    "print(f'\\n\\tTrain Data: {train.shape} \\n\\tValidate Data:{validate.shape}\\n\\tTest Data: {test.shape}')"
   ]
  },
  {
   "cell_type": "markdown",
   "id": "605f741a",
   "metadata": {},
   "source": [
    "> #### Freshly aquire train, validate, & split dataset from local files (faster loading)\n"
   ]
  },
  {
   "cell_type": "code",
   "execution_count": 188,
   "id": "d91efcba",
   "metadata": {},
   "outputs": [
    {
     "name": "stdout",
     "output_type": "stream",
     "text": [
      "\n",
      "\tProgram Status: Reading cleaned train data from a local cached csv file...\n",
      "\n",
      "\tProgram Status: Reading cleaned validate data from a local cached csv file...\n",
      "\n",
      "\tProgram Status: Reading cleaned test data from a local cached csv file...\n"
     ]
    }
   ],
   "source": [
    "train_df = clean_train_data() # acquire cleaned train dataset\n",
    "validate_df = clean_validate_data()# acquire cleaned validated dataset\n",
    "test_df = clean_test_data()# acquire cleaned test dataset"
   ]
  },
  {
   "cell_type": "code",
   "execution_count": 189,
   "id": "a6da95c3",
   "metadata": {},
   "outputs": [
    {
     "data": {
      "text/html": [
       "<div>\n",
       "<style scoped>\n",
       "    .dataframe tbody tr th:only-of-type {\n",
       "        vertical-align: middle;\n",
       "    }\n",
       "\n",
       "    .dataframe tbody tr th {\n",
       "        vertical-align: top;\n",
       "    }\n",
       "\n",
       "    .dataframe thead th {\n",
       "        text-align: right;\n",
       "    }\n",
       "</style>\n",
       "<table border=\"1\" class=\"dataframe\">\n",
       "  <thead>\n",
       "    <tr style=\"text-align: right;\">\n",
       "      <th></th>\n",
       "      <th>churn</th>\n",
       "      <th>tenure</th>\n",
       "      <th>multiple_lines</th>\n",
       "      <th>tech_support</th>\n",
       "      <th>monthly_charges</th>\n",
       "      <th>total_charges</th>\n",
       "      <th>enc_churn</th>\n",
       "      <th>enc_partner</th>\n",
       "      <th>enc_dependents</th>\n",
       "      <th>enc_phone_service</th>\n",
       "      <th>enc_paperless_billing</th>\n",
       "      <th>enc_payment</th>\n",
       "      <th>enc_contract_type</th>\n",
       "      <th>enc_intenet_service_type</th>\n",
       "    </tr>\n",
       "  </thead>\n",
       "  <tbody>\n",
       "    <tr>\n",
       "      <th>0</th>\n",
       "      <td>No</td>\n",
       "      <td>39</td>\n",
       "      <td>No</td>\n",
       "      <td>No internet service</td>\n",
       "      <td>73.85</td>\n",
       "      <td>401.30</td>\n",
       "      <td>0</td>\n",
       "      <td>0</td>\n",
       "      <td>0</td>\n",
       "      <td>1</td>\n",
       "      <td>0</td>\n",
       "      <td>2</td>\n",
       "      <td>3</td>\n",
       "      <td>3</td>\n",
       "    </tr>\n",
       "    <tr>\n",
       "      <th>1</th>\n",
       "      <td>No</td>\n",
       "      <td>72</td>\n",
       "      <td>Yes</td>\n",
       "      <td>Yes</td>\n",
       "      <td>74.25</td>\n",
       "      <td>4859.25</td>\n",
       "      <td>0</td>\n",
       "      <td>1</td>\n",
       "      <td>0</td>\n",
       "      <td>1</td>\n",
       "      <td>1</td>\n",
       "      <td>3</td>\n",
       "      <td>3</td>\n",
       "      <td>1</td>\n",
       "    </tr>\n",
       "    <tr>\n",
       "      <th>2</th>\n",
       "      <td>No</td>\n",
       "      <td>68</td>\n",
       "      <td>Yes</td>\n",
       "      <td>No internet service</td>\n",
       "      <td>35.05</td>\n",
       "      <td>35.05</td>\n",
       "      <td>0</td>\n",
       "      <td>1</td>\n",
       "      <td>1</td>\n",
       "      <td>1</td>\n",
       "      <td>0</td>\n",
       "      <td>2</td>\n",
       "      <td>3</td>\n",
       "      <td>3</td>\n",
       "    </tr>\n",
       "  </tbody>\n",
       "</table>\n",
       "</div>"
      ],
      "text/plain": [
       "  churn  tenure multiple_lines         tech_support  monthly_charges  \\\n",
       "0    No      39             No  No internet service            73.85   \n",
       "1    No      72            Yes                  Yes            74.25   \n",
       "2    No      68            Yes  No internet service            35.05   \n",
       "\n",
       "   total_charges  enc_churn  enc_partner  enc_dependents  enc_phone_service  \\\n",
       "0         401.30          0            0               0                  1   \n",
       "1        4859.25          0            1               0                  1   \n",
       "2          35.05          0            1               1                  1   \n",
       "\n",
       "   enc_paperless_billing  enc_payment  enc_contract_type  \\\n",
       "0                      0            2                  3   \n",
       "1                      1            3                  3   \n",
       "2                      0            2                  3   \n",
       "\n",
       "   enc_intenet_service_type  \n",
       "0                         3  \n",
       "1                         1  \n",
       "2                         3  "
      ]
     },
     "execution_count": 189,
     "metadata": {},
     "output_type": "execute_result"
    }
   ],
   "source": [
    "# Examine dataset \n",
    "\n",
    "train_df.head(3)"
   ]
  },
  {
   "cell_type": "code",
   "execution_count": 190,
   "id": "e0cae21e",
   "metadata": {},
   "outputs": [
    {
     "data": {
      "text/html": [
       "<div>\n",
       "<style scoped>\n",
       "    .dataframe tbody tr th:only-of-type {\n",
       "        vertical-align: middle;\n",
       "    }\n",
       "\n",
       "    .dataframe tbody tr th {\n",
       "        vertical-align: top;\n",
       "    }\n",
       "\n",
       "    .dataframe thead th {\n",
       "        text-align: right;\n",
       "    }\n",
       "</style>\n",
       "<table border=\"1\" class=\"dataframe\">\n",
       "  <thead>\n",
       "    <tr style=\"text-align: right;\">\n",
       "      <th></th>\n",
       "      <th>churn</th>\n",
       "      <th>tenure</th>\n",
       "      <th>multiple_lines</th>\n",
       "      <th>tech_support</th>\n",
       "      <th>monthly_charges</th>\n",
       "      <th>total_charges</th>\n",
       "      <th>enc_churn</th>\n",
       "      <th>enc_partner</th>\n",
       "      <th>enc_dependents</th>\n",
       "      <th>enc_phone_service</th>\n",
       "      <th>enc_paperless_billing</th>\n",
       "      <th>enc_payment</th>\n",
       "      <th>enc_contract_type</th>\n",
       "      <th>enc_intenet_service_type</th>\n",
       "    </tr>\n",
       "  </thead>\n",
       "  <tbody>\n",
       "    <tr>\n",
       "      <th>0</th>\n",
       "      <td>No</td>\n",
       "      <td>72</td>\n",
       "      <td>No phone service</td>\n",
       "      <td>Yes</td>\n",
       "      <td>109.45</td>\n",
       "      <td>6144.55</td>\n",
       "      <td>0</td>\n",
       "      <td>1</td>\n",
       "      <td>1</td>\n",
       "      <td>0</td>\n",
       "      <td>0</td>\n",
       "      <td>3</td>\n",
       "      <td>3</td>\n",
       "      <td>1</td>\n",
       "    </tr>\n",
       "    <tr>\n",
       "      <th>1</th>\n",
       "      <td>No</td>\n",
       "      <td>40</td>\n",
       "      <td>No</td>\n",
       "      <td>No</td>\n",
       "      <td>85.35</td>\n",
       "      <td>758.60</td>\n",
       "      <td>0</td>\n",
       "      <td>1</td>\n",
       "      <td>0</td>\n",
       "      <td>1</td>\n",
       "      <td>0</td>\n",
       "      <td>1</td>\n",
       "      <td>2</td>\n",
       "      <td>2</td>\n",
       "    </tr>\n",
       "    <tr>\n",
       "      <th>2</th>\n",
       "      <td>No</td>\n",
       "      <td>61</td>\n",
       "      <td>No</td>\n",
       "      <td>Yes</td>\n",
       "      <td>99.85</td>\n",
       "      <td>1776.95</td>\n",
       "      <td>0</td>\n",
       "      <td>1</td>\n",
       "      <td>1</td>\n",
       "      <td>1</td>\n",
       "      <td>1</td>\n",
       "      <td>3</td>\n",
       "      <td>3</td>\n",
       "      <td>1</td>\n",
       "    </tr>\n",
       "  </tbody>\n",
       "</table>\n",
       "</div>"
      ],
      "text/plain": [
       "  churn  tenure    multiple_lines tech_support  monthly_charges  \\\n",
       "0    No      72  No phone service          Yes           109.45   \n",
       "1    No      40                No           No            85.35   \n",
       "2    No      61                No          Yes            99.85   \n",
       "\n",
       "   total_charges  enc_churn  enc_partner  enc_dependents  enc_phone_service  \\\n",
       "0        6144.55          0            1               1                  0   \n",
       "1         758.60          0            1               0                  1   \n",
       "2        1776.95          0            1               1                  1   \n",
       "\n",
       "   enc_paperless_billing  enc_payment  enc_contract_type  \\\n",
       "0                      0            3                  3   \n",
       "1                      0            1                  2   \n",
       "2                      1            3                  3   \n",
       "\n",
       "   enc_intenet_service_type  \n",
       "0                         1  \n",
       "1                         2  \n",
       "2                         1  "
      ]
     },
     "execution_count": 190,
     "metadata": {},
     "output_type": "execute_result"
    }
   ],
   "source": [
    "validate_df.head(3)"
   ]
  },
  {
   "cell_type": "code",
   "execution_count": 191,
   "id": "980365f5",
   "metadata": {},
   "outputs": [
    {
     "data": {
      "text/html": [
       "<div>\n",
       "<style scoped>\n",
       "    .dataframe tbody tr th:only-of-type {\n",
       "        vertical-align: middle;\n",
       "    }\n",
       "\n",
       "    .dataframe tbody tr th {\n",
       "        vertical-align: top;\n",
       "    }\n",
       "\n",
       "    .dataframe thead th {\n",
       "        text-align: right;\n",
       "    }\n",
       "</style>\n",
       "<table border=\"1\" class=\"dataframe\">\n",
       "  <thead>\n",
       "    <tr style=\"text-align: right;\">\n",
       "      <th></th>\n",
       "      <th>churn</th>\n",
       "      <th>tenure</th>\n",
       "      <th>multiple_lines</th>\n",
       "      <th>tech_support</th>\n",
       "      <th>monthly_charges</th>\n",
       "      <th>total_charges</th>\n",
       "      <th>enc_churn</th>\n",
       "      <th>enc_partner</th>\n",
       "      <th>enc_dependents</th>\n",
       "      <th>enc_phone_service</th>\n",
       "      <th>enc_paperless_billing</th>\n",
       "      <th>enc_payment</th>\n",
       "      <th>enc_contract_type</th>\n",
       "      <th>enc_intenet_service_type</th>\n",
       "    </tr>\n",
       "  </thead>\n",
       "  <tbody>\n",
       "    <tr>\n",
       "      <th>0</th>\n",
       "      <td>No</td>\n",
       "      <td>62</td>\n",
       "      <td>No</td>\n",
       "      <td>Yes</td>\n",
       "      <td>60.3</td>\n",
       "      <td>3563.8</td>\n",
       "      <td>0</td>\n",
       "      <td>1</td>\n",
       "      <td>0</td>\n",
       "      <td>1</td>\n",
       "      <td>1</td>\n",
       "      <td>4</td>\n",
       "      <td>3</td>\n",
       "      <td>1</td>\n",
       "    </tr>\n",
       "    <tr>\n",
       "      <th>1</th>\n",
       "      <td>Yes</td>\n",
       "      <td>27</td>\n",
       "      <td>No phone service</td>\n",
       "      <td>No</td>\n",
       "      <td>111.3</td>\n",
       "      <td>7567.2</td>\n",
       "      <td>1</td>\n",
       "      <td>1</td>\n",
       "      <td>0</td>\n",
       "      <td>0</td>\n",
       "      <td>0</td>\n",
       "      <td>3</td>\n",
       "      <td>1</td>\n",
       "      <td>1</td>\n",
       "    </tr>\n",
       "    <tr>\n",
       "      <th>2</th>\n",
       "      <td>No</td>\n",
       "      <td>69</td>\n",
       "      <td>No phone service</td>\n",
       "      <td>No</td>\n",
       "      <td>71.1</td>\n",
       "      <td>4140.1</td>\n",
       "      <td>0</td>\n",
       "      <td>1</td>\n",
       "      <td>1</td>\n",
       "      <td>0</td>\n",
       "      <td>1</td>\n",
       "      <td>4</td>\n",
       "      <td>3</td>\n",
       "      <td>1</td>\n",
       "    </tr>\n",
       "  </tbody>\n",
       "</table>\n",
       "</div>"
      ],
      "text/plain": [
       "  churn  tenure    multiple_lines tech_support  monthly_charges  \\\n",
       "0    No      62                No          Yes             60.3   \n",
       "1   Yes      27  No phone service           No            111.3   \n",
       "2    No      69  No phone service           No             71.1   \n",
       "\n",
       "   total_charges  enc_churn  enc_partner  enc_dependents  enc_phone_service  \\\n",
       "0         3563.8          0            1               0                  1   \n",
       "1         7567.2          1            1               0                  0   \n",
       "2         4140.1          0            1               1                  0   \n",
       "\n",
       "   enc_paperless_billing  enc_payment  enc_contract_type  \\\n",
       "0                      1            4                  3   \n",
       "1                      0            3                  1   \n",
       "2                      1            4                  3   \n",
       "\n",
       "   enc_intenet_service_type  \n",
       "0                         1  \n",
       "1                         1  \n",
       "2                         1  "
      ]
     },
     "execution_count": 191,
     "metadata": {},
     "output_type": "execute_result"
    }
   ],
   "source": [
    "test_df.head(3)"
   ]
  },
  {
   "cell_type": "code",
   "execution_count": 192,
   "id": "af58b37b",
   "metadata": {},
   "outputs": [
    {
     "data": {
      "text/plain": [
       "['churn', 'multiple_lines', 'tech_support']"
      ]
     },
     "execution_count": 192,
     "metadata": {},
     "output_type": "execute_result"
    }
   ],
   "source": [
    "# Check categorical data\n",
    "\n",
    "train_categorical = [col for col in train_df.columns if train_df[col].dtype  == 'O']\n",
    "train_categorical"
   ]
  },
  {
   "cell_type": "code",
   "execution_count": 193,
   "id": "d25869cb",
   "metadata": {},
   "outputs": [
    {
     "data": {
      "text/plain": [
       "churn                        object\n",
       "tenure                        int64\n",
       "multiple_lines               object\n",
       "tech_support                 object\n",
       "monthly_charges             float64\n",
       "total_charges               float64\n",
       "enc_churn                     int64\n",
       "enc_partner                   int64\n",
       "enc_dependents                int64\n",
       "enc_phone_service             int64\n",
       "enc_paperless_billing         int64\n",
       "enc_payment                   int64\n",
       "enc_contract_type             int64\n",
       "enc_intenet_service_type      int64\n",
       "dtype: object"
      ]
     },
     "execution_count": 193,
     "metadata": {},
     "output_type": "execute_result"
    }
   ],
   "source": [
    "train_df.dtypes"
   ]
  },
  {
   "cell_type": "markdown",
   "id": "cd78ff78",
   "metadata": {},
   "source": [
    "# Project Features of interest:\n",
    "\n",
    ">> -  How does **churn** rate vary?\n",
    ">> -  **Billing format**, in theory may play big role in churning, can we find any effect of this feature?\n",
    ">> -  Do **phone service** affect churn rate?\n",
    ">#### Visualize relationship of categorical variables relatioships to target variable\n",
    "> (using **train data set** moving forward)\n",
    "\n",
    "### Initial Hypothesis \n",
    "\n",
    "\n",
    "#### Ho: Phone customers utlizing paperless billing  are less likely to churn than phone customers who do not\n",
    "\n",
    "\n",
    "#### H1: Phone customers utlizing paperless billing  are likely to churn than phone customers who do not"
   ]
  },
  {
   "cell_type": "markdown",
   "id": "856920f4",
   "metadata": {},
   "source": [
    "> # Visualize features relationships "
   ]
  },
  {
   "cell_type": "markdown",
   "id": "83410fdb",
   "metadata": {},
   "source": [
    ">## Visualize Distributions: \n",
    ">>### A. Overall churned vs non-churned customers\n",
    ">>### B. Overall paperless vs non paperless customers\n",
    ">>### C. Overall phone customers\n",
    "\n",
    ">## Dive deeper:\n",
    ">>### D. Churned vs non-churned paperless billing customers\n",
    ">>### E. Phone customers using paperless billing"
   ]
  },
  {
   "cell_type": "code",
   "execution_count": 194,
   "id": "3a11289f",
   "metadata": {},
   "outputs": [
    {
     "data": {
      "text/plain": [
       "0    4157294\n",
       "1    1340375\n",
       "Name: enc_churn, dtype: int64"
      ]
     },
     "execution_count": 194,
     "metadata": {},
     "output_type": "execute_result"
    }
   ],
   "source": [
    "# Overall train Churned customers (1) vs un-churned customers (0)\n",
    "\n",
    "train_df.enc_churn.value_counts()"
   ]
  },
  {
   "cell_type": "markdown",
   "id": "90e991f2",
   "metadata": {},
   "source": [
    ">### Create churn vs non-churn customers datasets"
   ]
  },
  {
   "cell_type": "code",
   "execution_count": 238,
   "id": "8a41129e",
   "metadata": {},
   "outputs": [],
   "source": [
    "# churned dataset\n",
    "\n",
    "churned_df = train_df[train_df.enc_churn == 1]\n",
    "non_churned_df = train_df[train_df.enc_churn == 0]"
   ]
  },
  {
   "cell_type": "markdown",
   "id": "4099e2f3",
   "metadata": {},
   "source": [
    "### Step I. Overall churn rate "
   ]
  },
  {
   "cell_type": "code",
   "execution_count": 254,
   "id": "1fb5af3c",
   "metadata": {},
   "outputs": [
    {
     "data": {
      "text/plain": [
       "<function matplotlib.pyplot.show(close=None, block=None)>"
      ]
     },
     "execution_count": 254,
     "metadata": {},
     "output_type": "execute_result"
    },
    {
     "data": {
      "image/png": "[encoded data removed]",
      "text/plain": [
       "<Figure size 1080x648 with 1 Axes>"
      ]
     },
     "metadata": {
      "needs_background": "light"
     },
     "output_type": "display_data"
    }
   ],
   "source": [
    "# Histogram (train dataset churn rate)\n",
    "\n",
    "plt.figure(figsize = (15, 9))\n",
    "plt.title('Overall train dataset churn rate')\n",
    "\n",
    "train_df.enc_churn.hist(color = 'green')\n",
    "plt.ylabel('Value count')\n",
    "plt.xlabel('Churn vs non-churn')\n",
    "plt.show"
   ]
  },
  {
   "cell_type": "markdown",
   "id": "12c7883c",
   "metadata": {},
   "source": [
    "### KEY: \n",
    "\n",
    "### '1' == Churn\n",
    "\n",
    "### '0' != churn\n",
    "\n",
    "\n",
    ">### --->  OBSERVATION: Overall [ 1 in 3 ] customer did not churned. \n",
    "\n",
    "> #### Are we doing well?\n",
    "\n",
    "\n",
    "## Step II. Expore overall paperless billing distribution "
   ]
  },
  {
   "cell_type": "code",
   "execution_count": 255,
   "id": "15d9c85b",
   "metadata": {},
   "outputs": [
    {
     "data": {
      "text/plain": [
       "<function matplotlib.pyplot.show(close=None, block=None)>"
      ]
     },
     "execution_count": 255,
     "metadata": {},
     "output_type": "execute_result"
    },
    {
     "data": {
      "image/png": "[encoded data removed]",
      "text/plain": [
       "<Figure size 1080x648 with 1 Axes>"
      ]
     },
     "metadata": {
      "needs_background": "light"
     },
     "output_type": "display_data"
    }
   ],
   "source": [
    "# Histogram (Proportion of paperless billing customers)\n",
    "\n",
    "plt.figure(figsize = (15, 9))\n",
    "plt.title('Overall paperless billing distribution')\n",
    "train_df.enc_paperless_billing.hist(color = 'red')\n",
    "plt.ylabel('# Count values')\n",
    "plt.xlabel('\\'1\\' = paperless billing \\'0\\' = None')\n",
    "\n",
    "plt.show"
   ]
  },
  {
   "cell_type": "markdown",
   "id": "f1a1e831",
   "metadata": {},
   "source": [
    "### --> Obeservation: Approximately 60% of Telco customers are using paperless billing\n",
    "\n",
    "\n",
    "### Let's explore this group of our data further..."
   ]
  },
  {
   "cell_type": "code",
   "execution_count": 230,
   "id": "d3e14773",
   "metadata": {},
   "outputs": [],
   "source": [
    "# churned paperless billing \n",
    "\n",
    "churned_paperless_bill = train_df[train_df.enc_churn == 1].enc_paperless_billing"
   ]
  },
  {
   "cell_type": "code",
   "execution_count": 256,
   "id": "19394809",
   "metadata": {},
   "outputs": [
    {
     "data": {
      "text/plain": [
       "<function matplotlib.pyplot.show(close=None, block=None)>"
      ]
     },
     "execution_count": 256,
     "metadata": {},
     "output_type": "execute_result"
    },
    {
     "data": {
      "image/png": "[encoded data removed]",
      "text/plain": [
       "<Figure size 1080x648 with 1 Axes>"
      ]
     },
     "metadata": {
      "needs_background": "light"
     },
     "output_type": "display_data"
    }
   ],
   "source": [
    "# Histogram (Proportion of phone services customers)\n",
    "\n",
    "plt.figure(figsize = (15, 9))\n",
    "plt.title('Churned Paperless Billing Distribution ')\n",
    "churned_paperless_bill.hist(color = 'red')\n",
    "plt.ylabel('# Churn count values')\n",
    "plt.xlabel('\\'1\\' = Churned paperless billing \\'0\\' = Non-Churn paperless billing ')\n",
    "\n",
    "plt.show"
   ]
  },
  {
   "cell_type": "markdown",
   "id": "0aaa6da0",
   "metadata": {},
   "source": [
    ">### ---> OBSERVATION: Almost twice churn rate among paperless billing"
   ]
  },
  {
   "cell_type": "markdown",
   "id": "57d4aa92",
   "metadata": {},
   "source": [
    "## Deeper Examinations"
   ]
  },
  {
   "cell_type": "markdown",
   "id": "38f2e91c",
   "metadata": {},
   "source": [
    ">>### Examine Papeless Billing Comparance:\n",
    ">>### (churned vs non-churned)"
   ]
  },
  {
   "cell_type": "code",
   "execution_count": 223,
   "id": "b461beb3",
   "metadata": {},
   "outputs": [
    {
     "name": "stdout",
     "output_type": "stream",
     "text": [
      "\n",
      "Churned customers using Paperless billing (mean): 71.63%\n",
      "\n",
      "Non-Churned customers using Paperless billing (mean): 55.61%\n",
      "\n",
      "------------------------------------------\n",
      "--->  [[OBSERVATION]]: Equal proportion of churn vs no churn among phone customers alone\n",
      "------------------------------------------\n"
     ]
    },
    {
     "data": {
      "text/plain": [
       "<Figure size 1080x720 with 0 Axes>"
      ]
     },
     "metadata": {},
     "output_type": "display_data"
    }
   ],
   "source": [
    "\n",
    "churned_paperless_billed_mean = churned_df.enc_paperless_billing.mean()\n",
    "\n",
    "non_churned_paperless_billed_mean = non_churned_df.enc_paperless_billing.mean()\n",
    "\n",
    "plt.figure(figsize = (15, 10))\n",
    "print()\n",
    "print(f'Churned customers using Paperless billing (mean): {churned_paperless_billed_mean:.2%}')\n",
    "print()\n",
    "print(f'Non-Churned customers using Paperless billing (mean): {non_churned_paperless_billed_mean:.2%}')\n",
    "print()\n",
    "print('------------------------------------------')\n",
    "print('--->  [[OBSERVATION]]: Equal proportion of churn vs no churn among phone customers alone')\n",
    "print('------------------------------------------')\n"
   ]
  },
  {
   "cell_type": "code",
   "execution_count": null,
   "id": "251f00d5",
   "metadata": {},
   "outputs": [],
   "source": []
  },
  {
   "cell_type": "markdown",
   "id": "c26d702c",
   "metadata": {},
   "source": [
    ">>### How about Phone Customers using paperless billing? \n",
    ">>### (churned vs non-churned)"
   ]
  },
  {
   "cell_type": "code",
   "execution_count": 202,
   "id": "6fd39445",
   "metadata": {},
   "outputs": [
    {
     "name": "stdout",
     "output_type": "stream",
     "text": [
      "\n",
      "Churned phone customers using paperless billing (mean): 89.58%\n",
      "\n",
      "Non-Churned Phone customers using paperless billing (mean): 88.42%\n",
      "\n",
      "------------------------------------------\n",
      "--->  OBSERVATION: Slight increase in churn among these customers\n",
      "------------------------------------------\n"
     ]
    },
    {
     "data": {
      "text/plain": [
       "<Figure size 1080x720 with 0 Axes>"
      ]
     },
     "metadata": {},
     "output_type": "display_data"
    }
   ],
   "source": [
    "\n",
    "\n",
    "churned_paperless_billing = churned_df[churned_df.enc_paperless_billing == 1]\n",
    "non_churn_paperless_billing = churned_df[churned_df.enc_paperless_billing == 0]\n",
    "\n",
    "\n",
    "churned_paperless_phone= churned_paperless_billing.enc_phone_service\n",
    "non_churned_paperless_phone= non_churn_paperless_billing.enc_phone_service\n",
    "\n",
    "churned_paperless_bill_phone_service = churned_paperless_billing.enc_phone_service.mean()\n",
    "non_churned_paperless_bill_phone_service = non_churn_paperless_billing.enc_phone_service.mean()\n",
    "\n",
    "plt.figure(figsize = (15, 10))\n",
    "print()\n",
    "print(f'Churned phone customers using paperless billing (mean): {churned_paperless_bill_phone_service:.2%}')\n",
    "print()\n",
    "print(f'Non-Churned Phone customers using paperless billing (mean): {non_churned_paperless_bill_phone_service:.2%}')\n",
    "print()\n",
    "print('------------------------------------------')\n",
    "print('--->  OBSERVATION: Slight increase in churn among these customers')\n",
    "print('------------------------------------------')"
   ]
  },
  {
   "cell_type": "markdown",
   "id": "011fe38a",
   "metadata": {},
   "source": [
    "> ## Key Observations\n",
    "\n",
    ">-  Phone service and paperless billing appears to have the greatest churn rate \n",
    ">-  Overall: Churning customers is approximately 1/3 of non-churning customers\n",
    ">-  Overall: churned phone customers \n",
    "\n",
    ">-  There is a spike in churn with customers using paperless billing\n",
    ">-  Of the customers, using paperless billing, phone customers among these group show approximately 2% increased churn"
   ]
  },
  {
   "cell_type": "markdown",
   "id": "dbe24f31",
   "metadata": {},
   "source": [
    "# Why are paperless billing less prefferable? \n",
    "\n",
    ">## Lets test our hypothesis \n",
    "\n",
    "\n",
    ">##### Ho: Mean of churned customers using paperless billing  = mean of non-churned customers not using paperless billing\n",
    "\n",
    "\n",
    ">##### Ho: Mean of non-churned customers using paperless billing  > mean of non-churned customers not using paperless billing\n",
    "\n",
    "\n",
    ">## T-test Choice: Independent T-Test (Two-sample t-test)\n",
    ">-  compare two groups in our hypothesis"
   ]
  },
  {
   "cell_type": "markdown",
   "id": "5e170d47",
   "metadata": {},
   "source": [
    ">## Re-visit % difference "
   ]
  },
  {
   "cell_type": "code",
   "execution_count": 203,
   "id": "916e37b3",
   "metadata": {},
   "outputs": [
    {
     "name": "stdout",
     "output_type": "stream",
     "text": [
      "\n",
      "----------------------------------------------------------------------------------\n",
      "Churned Paperless Billing: 71.63%\n",
      "\n",
      "Non-Churned Paperless Billing: 55.61%\n",
      "----------------------------------------------------------------------------------\n",
      "\n"
     ]
    }
   ],
   "source": [
    "# Paperless billing:\n",
    "churned_paperless_billed_mean = churned_df.enc_paperless_billing.mean()\n",
    "\n",
    "# NON paperless billing:\n",
    "non_churned_paperless_billed_mean = non_churned_df.enc_paperless_billing.mean()\n",
    "print()\n",
    "print('----------------------------------------------------------------------------------')\n",
    "\n",
    "print(f'Churned Paperless Billing: {churned_paperless_billed_mean:.2%}\\n')\n",
    "\n",
    "print(f'Non-Churned Paperless Billing: {non_churned_paperless_billed_mean:.2%}')\n",
    "print('----------------------------------------------------------------------------------')\n",
    "print()"
   ]
  },
  {
   "cell_type": "markdown",
   "id": "d18f6ccc",
   "metadata": {},
   "source": [
    ">## Create paperless churn sample for our t-test"
   ]
  },
  {
   "cell_type": "code",
   "execution_count": 204,
   "id": "e4b54a5b",
   "metadata": {},
   "outputs": [],
   "source": [
    "churn_paperless_sample = train_df[train_df.enc_churn == 1].enc_paperless_billing\n",
    "no_churn_paperless_sample = train_df[train_df.enc_churn == 0].enc_paperless_billing\n"
   ]
  },
  {
   "cell_type": "markdown",
   "id": "7ee22cd0",
   "metadata": {},
   "source": [
    ">## Compare variance\n",
    "\n",
    ">-  --> Un-equal variance"
   ]
  },
  {
   "cell_type": "code",
   "execution_count": 205,
   "id": "95d83e0c",
   "metadata": {},
   "outputs": [
    {
     "name": "stdout",
     "output_type": "stream",
     "text": [
      "\n",
      "\tChurned Sample Variances: 0.20322821360030022\n",
      "\n",
      "\tNon-Churned Sample Variances: 0.24685819607788256\n",
      "\n"
     ]
    }
   ],
   "source": [
    "print(f'\\n\\tChurned Sample Variances: {churn_paperless_sample.var()}\\n')\n",
    "\n",
    "print(f'\\tNon-Churned Sample Variances: {no_churn_paperless_sample.var()}\\n')"
   ]
  },
  {
   "cell_type": "markdown",
   "id": "24b4905c",
   "metadata": {},
   "source": [
    "> ## Set our alpha score (% confidence level)"
   ]
  },
  {
   "cell_type": "code",
   "execution_count": 206,
   "id": "626b9e43",
   "metadata": {},
   "outputs": [
    {
     "name": "stdout",
     "output_type": "stream",
     "text": [
      "\n",
      "\tT-value: 348.7902903535163 \n",
      "\n",
      "\tP-value: 0.0\n",
      "\n"
     ]
    }
   ],
   "source": [
    "alpha = 0.05 \n",
    "\n",
    "# variance not same, we'll set equal_var to false\n",
    "t, p = stats.ttest_ind(churn_paperless_sample, no_churn_paperless_sample, equal_var=False)\n",
    "print()\n",
    "print(f'\\tT-value: {t} \\n\\n\\tP-value: {p}\\n')\n"
   ]
  },
  {
   "cell_type": "code",
   "execution_count": 207,
   "id": "63137bf4",
   "metadata": {},
   "outputs": [
    {
     "name": "stdout",
     "output_type": "stream",
     "text": [
      "\n",
      "\tWe reject HO (Accept H1):-> \n",
      "\n",
      "Mean of churned customers using paperless billing  = mean of non-churned customers not using paperless billing\n",
      "\n",
      "\n",
      "\n",
      "Adapted hypothesis:\n",
      "\n",
      "= [ Mean of churned customers using paperless billing  > mean of non-churned customers not using paperless billing ]\n",
      "\n"
     ]
    }
   ],
   "source": [
    "\n",
    "HO = 'Mean of churned customers using paperless billing  = mean of non-churned customers not using paperless billing'\n",
    "\n",
    "H1 = 'Mean of churned customers using paperless billing  > mean of non-churned customers not using paperless billing'\n",
    "\n",
    "if (p) > alpha:\n",
    "    \n",
    "    print(f'\\tFailed to reject HO:-> \\n\\n{HO}')\n",
    "    \n",
    "elif t < 0:\n",
    "    \n",
    "    print(f'\\tFailed to reject HO:-> \\n\\n{HO}')\n",
    "    \n",
    "else:\n",
    "    print()\n",
    "    print(f'\\tWe reject HO (Accept H1):-> \\n\\n{HO}')\n",
    "    \n",
    "    \n",
    "    print('\\n\\n\\nAdapted hypothesis:\\n')\n",
    "    print(f'= [ {H1} ]\\n')\n",
    "    \n"
   ]
  },
  {
   "cell_type": "markdown",
   "id": "176a41f4",
   "metadata": {},
   "source": [
    "> # Evaluation\n",
    "\n",
    "> ### Purpose: Determine accuracy of our concluded hypothesis\n",
    "\n",
    "> ### Common Evaluation metrics:\n",
    ">-  Accuracy - number of times we predict correctly\n",
    ">-  Precision - % of +ve predictions that we made are correct\n",
    ">-  Recall - % of +ve individual cases we predicted correct\n",
    "\n",
    "\n",
    ">##### OUR CASE: We want to create a model to test the accuracy that churned paperless customers > non-churned customers using paperless billing"
   ]
  },
  {
   "cell_type": "markdown",
   "id": "8b33ea18",
   "metadata": {},
   "source": [
    ">### Create actual and predicted samples"
   ]
  },
  {
   "cell_type": "code",
   "execution_count": 208,
   "id": "10ed8cab",
   "metadata": {},
   "outputs": [
    {
     "data": {
      "text/html": [
       "<div>\n",
       "<style scoped>\n",
       "    .dataframe tbody tr th:only-of-type {\n",
       "        vertical-align: middle;\n",
       "    }\n",
       "\n",
       "    .dataframe tbody tr th {\n",
       "        vertical-align: top;\n",
       "    }\n",
       "\n",
       "    .dataframe thead th {\n",
       "        text-align: right;\n",
       "    }\n",
       "</style>\n",
       "<table border=\"1\" class=\"dataframe\">\n",
       "  <thead>\n",
       "    <tr style=\"text-align: right;\">\n",
       "      <th></th>\n",
       "      <th>0</th>\n",
       "    </tr>\n",
       "  </thead>\n",
       "  <tbody>\n",
       "    <tr>\n",
       "      <th>actual_paperless_bill_churn</th>\n",
       "      <td>[0, 0, 1, 1, 0, 1, 0, 1, 1, 1, 0, 0, 0, 1, 0, ...</td>\n",
       "    </tr>\n",
       "    <tr>\n",
       "      <th>predicted_paperless_bill_churn</th>\n",
       "      <td>[0, 0, 1, 0, 1, 1, 0, 1, 0, 1, 0, 0, 0, 0, 0, ...</td>\n",
       "    </tr>\n",
       "  </tbody>\n",
       "</table>\n",
       "</div>"
      ],
      "text/plain": [
       "                                                                                0\n",
       "actual_paperless_bill_churn     [0, 0, 1, 1, 0, 1, 0, 1, 1, 1, 0, 0, 0, 1, 0, ...\n",
       "predicted_paperless_bill_churn  [0, 0, 1, 0, 1, 1, 0, 1, 0, 1, 0, 0, 0, 0, 0, ..."
      ]
     },
     "execution_count": 208,
     "metadata": {},
     "output_type": "execute_result"
    }
   ],
   "source": [
    "# Create churn and non_churn paperless series\n",
    "churn_paperless_bill = train_df.enc_churn[train_df.enc_paperless_billing == 1]\n",
    "non_churn_paperless_bill = train_df.enc_churn[train_df.enc_paperless_billing == 0]\n",
    "\n",
    "# convert to list\n",
    "churn_paperless_bill = churn_paperless_bill.tolist()\n",
    "non_churn_paperless_bill = non_churn_paperless_bill.tolist()\n",
    "\n",
    "# Convert the series into dataframe and give labels\n",
    "df_train = pd.DataFrame({'actual_paperless_bill_churn': [churn_paperless_bill],\n",
    "                        'predicted_paperless_bill_churn': [non_churn_paperless_bill]})\n",
    "\n",
    "df_train.head(5).T"
   ]
  },
  {
   "cell_type": "code",
   "execution_count": 73,
   "id": "71445e19",
   "metadata": {},
   "outputs": [
    {
     "data": {
      "text/html": [
       "<div>\n",
       "<style scoped>\n",
       "    .dataframe tbody tr th:only-of-type {\n",
       "        vertical-align: middle;\n",
       "    }\n",
       "\n",
       "    .dataframe tbody tr th {\n",
       "        vertical-align: top;\n",
       "    }\n",
       "\n",
       "    .dataframe thead th {\n",
       "        text-align: right;\n",
       "    }\n",
       "</style>\n",
       "<table border=\"1\" class=\"dataframe\">\n",
       "  <thead>\n",
       "    <tr style=\"text-align: right;\">\n",
       "      <th></th>\n",
       "      <th>tenure</th>\n",
       "      <th>monthly_charges</th>\n",
       "      <th>total_charges</th>\n",
       "      <th>enc_churn</th>\n",
       "      <th>enc_partner</th>\n",
       "      <th>enc_dependents</th>\n",
       "      <th>enc_phone_service</th>\n",
       "      <th>enc_paperless_billing</th>\n",
       "      <th>enc_payment</th>\n",
       "      <th>enc_contract_type</th>\n",
       "      <th>enc_intenet_service_type</th>\n",
       "    </tr>\n",
       "  </thead>\n",
       "  <tbody>\n",
       "    <tr>\n",
       "      <th>0</th>\n",
       "      <td>39</td>\n",
       "      <td>73.85</td>\n",
       "      <td>401.30</td>\n",
       "      <td>0</td>\n",
       "      <td>0</td>\n",
       "      <td>0</td>\n",
       "      <td>1</td>\n",
       "      <td>0</td>\n",
       "      <td>2</td>\n",
       "      <td>3</td>\n",
       "      <td>3</td>\n",
       "    </tr>\n",
       "    <tr>\n",
       "      <th>1</th>\n",
       "      <td>72</td>\n",
       "      <td>74.25</td>\n",
       "      <td>4859.25</td>\n",
       "      <td>0</td>\n",
       "      <td>1</td>\n",
       "      <td>0</td>\n",
       "      <td>1</td>\n",
       "      <td>1</td>\n",
       "      <td>3</td>\n",
       "      <td>3</td>\n",
       "      <td>1</td>\n",
       "    </tr>\n",
       "    <tr>\n",
       "      <th>2</th>\n",
       "      <td>68</td>\n",
       "      <td>35.05</td>\n",
       "      <td>35.05</td>\n",
       "      <td>0</td>\n",
       "      <td>1</td>\n",
       "      <td>1</td>\n",
       "      <td>1</td>\n",
       "      <td>0</td>\n",
       "      <td>2</td>\n",
       "      <td>3</td>\n",
       "      <td>3</td>\n",
       "    </tr>\n",
       "    <tr>\n",
       "      <th>3</th>\n",
       "      <td>22</td>\n",
       "      <td>94.40</td>\n",
       "      <td>857.25</td>\n",
       "      <td>1</td>\n",
       "      <td>1</td>\n",
       "      <td>1</td>\n",
       "      <td>1</td>\n",
       "      <td>0</td>\n",
       "      <td>1</td>\n",
       "      <td>1</td>\n",
       "      <td>2</td>\n",
       "    </tr>\n",
       "    <tr>\n",
       "      <th>4</th>\n",
       "      <td>50</td>\n",
       "      <td>56.15</td>\n",
       "      <td>168.15</td>\n",
       "      <td>0</td>\n",
       "      <td>0</td>\n",
       "      <td>0</td>\n",
       "      <td>1</td>\n",
       "      <td>1</td>\n",
       "      <td>2</td>\n",
       "      <td>2</td>\n",
       "      <td>3</td>\n",
       "    </tr>\n",
       "  </tbody>\n",
       "</table>\n",
       "</div>"
      ],
      "text/plain": [
       "   tenure  monthly_charges  total_charges  enc_churn  enc_partner  \\\n",
       "0      39            73.85         401.30          0            0   \n",
       "1      72            74.25        4859.25          0            1   \n",
       "2      68            35.05          35.05          0            1   \n",
       "3      22            94.40         857.25          1            1   \n",
       "4      50            56.15         168.15          0            0   \n",
       "\n",
       "   enc_dependents  enc_phone_service  enc_paperless_billing  enc_payment  \\\n",
       "0               0                  1                      0            2   \n",
       "1               0                  1                      1            3   \n",
       "2               1                  1                      0            2   \n",
       "3               1                  1                      0            1   \n",
       "4               0                  1                      1            2   \n",
       "\n",
       "   enc_contract_type  enc_intenet_service_type  \n",
       "0                  3                         3  \n",
       "1                  3                         1  \n",
       "2                  3                         3  \n",
       "3                  1                         2  \n",
       "4                  2                         3  "
      ]
     },
     "execution_count": 73,
     "metadata": {},
     "output_type": "execute_result"
    }
   ],
   "source": [
    "train_df.head()"
   ]
  },
  {
   "cell_type": "markdown",
   "id": "b5ced374",
   "metadata": {},
   "source": [
    ">### Create a crosstab visualization of actual vs predicted*************"
   ]
  },
  {
   "cell_type": "code",
   "execution_count": 212,
   "id": "e2cd0986",
   "metadata": {},
   "outputs": [],
   "source": [
    "# pd.crosstab([df_train.actual_paperless_bill_churn, \n",
    "#              df_train.predicted_paperless_bill_churn], \n",
    "#             labels = 'churn', 'no_churn')"
   ]
  },
  {
   "cell_type": "markdown",
   "id": "68017e5c",
   "metadata": {},
   "source": [
    ">### Baseline predictions"
   ]
  },
  {
   "cell_type": "code",
   "execution_count": 213,
   "id": "9537c667",
   "metadata": {},
   "outputs": [
    {
     "data": {
      "text/html": [
       "<div>\n",
       "<style scoped>\n",
       "    .dataframe tbody tr th:only-of-type {\n",
       "        vertical-align: middle;\n",
       "    }\n",
       "\n",
       "    .dataframe tbody tr th {\n",
       "        vertical-align: top;\n",
       "    }\n",
       "\n",
       "    .dataframe thead th {\n",
       "        text-align: right;\n",
       "    }\n",
       "</style>\n",
       "<table border=\"1\" class=\"dataframe\">\n",
       "  <thead>\n",
       "    <tr style=\"text-align: right;\">\n",
       "      <th></th>\n",
       "      <th>actual_paperless_bill_churn</th>\n",
       "      <th>predicted_paperless_bill_churn</th>\n",
       "    </tr>\n",
       "  </thead>\n",
       "  <tbody>\n",
       "    <tr>\n",
       "      <th>0</th>\n",
       "      <td>[0, 0, 1, 1, 0, 1, 0, 1, 1, 1, 0, 0, 0, 1, 0, ...</td>\n",
       "      <td>[0, 0, 1, 0, 1, 1, 0, 1, 0, 1, 0, 0, 0, 0, 0, ...</td>\n",
       "    </tr>\n",
       "  </tbody>\n",
       "</table>\n",
       "</div>"
      ],
      "text/plain": [
       "                         actual_paperless_bill_churn  \\\n",
       "0  [0, 0, 1, 1, 0, 1, 0, 1, 1, 1, 0, 0, 0, 1, 0, ...   \n",
       "\n",
       "                      predicted_paperless_bill_churn  \n",
       "0  [0, 0, 1, 0, 1, 1, 0, 1, 0, 1, 0, 0, 0, 0, 0, ...  "
      ]
     },
     "execution_count": 213,
     "metadata": {},
     "output_type": "execute_result"
    }
   ],
   "source": [
    "actual_list = list(df_train.actual_paperless_bill_churn)\n",
    "predicted_list = list(df_train.predicted_paperless_bill_churn)\n",
    "\n",
    "df_train.head()\n"
   ]
  },
  {
   "cell_type": "markdown",
   "id": "381d38fd",
   "metadata": {},
   "source": [
    "># Modeling I: Decision Tree\n",
    ">>- #### Exploration and training on the train dataset\n",
    ">>- #### Tune model on validate \n",
    ">>- #### Verify tuned model on test "
   ]
  },
  {
   "cell_type": "code",
   "execution_count": 7,
   "id": "f40fa6cf",
   "metadata": {},
   "outputs": [
    {
     "data": {
      "text/html": [
       "<div>\n",
       "<style scoped>\n",
       "    .dataframe tbody tr th:only-of-type {\n",
       "        vertical-align: middle;\n",
       "    }\n",
       "\n",
       "    .dataframe tbody tr th {\n",
       "        vertical-align: top;\n",
       "    }\n",
       "\n",
       "    .dataframe thead th {\n",
       "        text-align: right;\n",
       "    }\n",
       "</style>\n",
       "<table border=\"1\" class=\"dataframe\">\n",
       "  <thead>\n",
       "    <tr style=\"text-align: right;\">\n",
       "      <th></th>\n",
       "      <th>churn</th>\n",
       "      <th>tenure</th>\n",
       "      <th>multiple_lines</th>\n",
       "      <th>tech_support</th>\n",
       "      <th>monthly_charges</th>\n",
       "      <th>total_charges</th>\n",
       "      <th>enc_churn</th>\n",
       "      <th>enc_partner</th>\n",
       "      <th>enc_dependents</th>\n",
       "      <th>enc_phone_service</th>\n",
       "      <th>enc_paperless_billing</th>\n",
       "      <th>enc_payment</th>\n",
       "      <th>enc_contract_type</th>\n",
       "      <th>enc_intenet_service_type</th>\n",
       "    </tr>\n",
       "  </thead>\n",
       "  <tbody>\n",
       "    <tr>\n",
       "      <th>0</th>\n",
       "      <td>No</td>\n",
       "      <td>39</td>\n",
       "      <td>No</td>\n",
       "      <td>No internet service</td>\n",
       "      <td>73.85</td>\n",
       "      <td>401.30</td>\n",
       "      <td>0</td>\n",
       "      <td>0</td>\n",
       "      <td>0</td>\n",
       "      <td>1</td>\n",
       "      <td>0</td>\n",
       "      <td>2</td>\n",
       "      <td>3</td>\n",
       "      <td>3</td>\n",
       "    </tr>\n",
       "    <tr>\n",
       "      <th>1</th>\n",
       "      <td>No</td>\n",
       "      <td>72</td>\n",
       "      <td>Yes</td>\n",
       "      <td>Yes</td>\n",
       "      <td>74.25</td>\n",
       "      <td>4859.25</td>\n",
       "      <td>0</td>\n",
       "      <td>1</td>\n",
       "      <td>0</td>\n",
       "      <td>1</td>\n",
       "      <td>1</td>\n",
       "      <td>3</td>\n",
       "      <td>3</td>\n",
       "      <td>1</td>\n",
       "    </tr>\n",
       "    <tr>\n",
       "      <th>2</th>\n",
       "      <td>No</td>\n",
       "      <td>68</td>\n",
       "      <td>Yes</td>\n",
       "      <td>No internet service</td>\n",
       "      <td>35.05</td>\n",
       "      <td>35.05</td>\n",
       "      <td>0</td>\n",
       "      <td>1</td>\n",
       "      <td>1</td>\n",
       "      <td>1</td>\n",
       "      <td>0</td>\n",
       "      <td>2</td>\n",
       "      <td>3</td>\n",
       "      <td>3</td>\n",
       "    </tr>\n",
       "    <tr>\n",
       "      <th>3</th>\n",
       "      <td>Yes</td>\n",
       "      <td>22</td>\n",
       "      <td>No</td>\n",
       "      <td>No</td>\n",
       "      <td>94.40</td>\n",
       "      <td>857.25</td>\n",
       "      <td>1</td>\n",
       "      <td>1</td>\n",
       "      <td>1</td>\n",
       "      <td>1</td>\n",
       "      <td>0</td>\n",
       "      <td>1</td>\n",
       "      <td>1</td>\n",
       "      <td>2</td>\n",
       "    </tr>\n",
       "    <tr>\n",
       "      <th>4</th>\n",
       "      <td>No</td>\n",
       "      <td>50</td>\n",
       "      <td>No</td>\n",
       "      <td>No internet service</td>\n",
       "      <td>56.15</td>\n",
       "      <td>168.15</td>\n",
       "      <td>0</td>\n",
       "      <td>0</td>\n",
       "      <td>0</td>\n",
       "      <td>1</td>\n",
       "      <td>1</td>\n",
       "      <td>2</td>\n",
       "      <td>2</td>\n",
       "      <td>3</td>\n",
       "    </tr>\n",
       "  </tbody>\n",
       "</table>\n",
       "</div>"
      ],
      "text/plain": [
       "  churn  tenure multiple_lines         tech_support  monthly_charges  \\\n",
       "0    No      39             No  No internet service            73.85   \n",
       "1    No      72            Yes                  Yes            74.25   \n",
       "2    No      68            Yes  No internet service            35.05   \n",
       "3   Yes      22             No                   No            94.40   \n",
       "4    No      50             No  No internet service            56.15   \n",
       "\n",
       "   total_charges  enc_churn  enc_partner  enc_dependents  enc_phone_service  \\\n",
       "0         401.30          0            0               0                  1   \n",
       "1        4859.25          0            1               0                  1   \n",
       "2          35.05          0            1               1                  1   \n",
       "3         857.25          1            1               1                  1   \n",
       "4         168.15          0            0               0                  1   \n",
       "\n",
       "   enc_paperless_billing  enc_payment  enc_contract_type  \\\n",
       "0                      0            2                  3   \n",
       "1                      1            3                  3   \n",
       "2                      0            2                  3   \n",
       "3                      0            1                  1   \n",
       "4                      1            2                  2   \n",
       "\n",
       "   enc_intenet_service_type  \n",
       "0                         3  \n",
       "1                         1  \n",
       "2                         3  \n",
       "3                         2  \n",
       "4                         3  "
      ]
     },
     "execution_count": 7,
     "metadata": {},
     "output_type": "execute_result"
    }
   ],
   "source": [
    "train_df.head()"
   ]
  },
  {
   "cell_type": "code",
   "execution_count": 34,
   "id": "9c025256",
   "metadata": {},
   "outputs": [],
   "source": [
    "# Split data and save separate files of train, validate, test\n",
    "# train, validate, test = clean_split_telco_data(telco, seed = 123)"
   ]
  },
  {
   "cell_type": "code",
   "execution_count": 153,
   "id": "57d44c11",
   "metadata": {},
   "outputs": [
    {
     "name": "stdout",
     "output_type": "stream",
     "text": [
      "\n",
      "\tProgram Status: Reading cleaned train data from a local cached csv file...\n",
      "\n",
      "\tProgram Status: Reading cleaned validate data from a local cached csv file...\n",
      "\n",
      "\tProgram Status: Reading cleaned test data from a local cached csv file...\n",
      "\n",
      "\tTrain Data: (5497669, 14) \n",
      "\tValidate Data:(2463974, 14)\n",
      "\tTest Data: (2064720, 14)\n"
     ]
    }
   ],
   "source": [
    "\n",
    "# Verify split ratios\n",
    "train_df = clean_train_data()\n",
    "validate_df = clean_validate_data()\n",
    "test_df = clean_test_data()\n",
    "\n",
    "print(f'\\n\\tTrain Data: {train.shape} \\n\\tValidate Data:{validate.shape}\\n\\tTest Data: {test.shape}')\n",
    "\n"
   ]
  },
  {
   "cell_type": "code",
   "execution_count": 154,
   "id": "dc901cd1",
   "metadata": {},
   "outputs": [],
   "source": [
    "# Drop non-encoded columns\n",
    "\n",
    "train_df = train_df.drop(columns =['churn', 'multiple_lines', 'tech_support'])\n",
    "validate_df = validate_df.drop(columns =['churn', 'multiple_lines', 'tech_support'])\n",
    "test_df = test_df.drop(columns =['churn', 'multiple_lines', 'tech_support'])\n",
    "\n",
    "# Drop NaN Columns\n",
    "train_df = train_df.dropna()\n",
    "validate_df = validate_df.dropna()\n",
    "test_df = test_df.dropna()"
   ]
  },
  {
   "cell_type": "code",
   "execution_count": 155,
   "id": "5da32002",
   "metadata": {},
   "outputs": [],
   "source": [
    "# create X & y version of train, where y is a series with just the target variable and X are all the features. \n",
    "\n",
    "X_train = train_df.drop(columns=['enc_churn'])\n",
    "y_train = train_df.enc_churn\n",
    "\n",
    "X_validate = validate_df.drop(columns=['enc_churn'])\n",
    "y_validate = validate_df.enc_churn\n",
    "\n",
    "X_test = test_df.drop(columns=['enc_churn'])\n",
    "y_test = test_df.enc_churn"
   ]
  },
  {
   "cell_type": "markdown",
   "id": "c8a685eb",
   "metadata": {},
   "source": [
    ">#### (1). Create decision tree object "
   ]
  },
  {
   "cell_type": "code",
   "execution_count": 156,
   "id": "0d501716",
   "metadata": {},
   "outputs": [],
   "source": [
    "# for classification you can change the algorithm to gini or entropy (information gain).  \n",
    "# Default is gini.\n",
    "\n",
    "clf = DecisionTreeClassifier(max_depth=3, random_state = 123)\n"
   ]
  },
  {
   "cell_type": "markdown",
   "id": "885d189c",
   "metadata": {},
   "source": [
    "> #### (ii) Fit the model\n",
    "\n",
    "> --> Fit random forest algorithm to training data"
   ]
  },
  {
   "cell_type": "code",
   "execution_count": 157,
   "id": "5db37e68",
   "metadata": {},
   "outputs": [],
   "source": [
    "# Model.fit(X, y)\n",
    "\n",
    "clf = clf.fit(X_train, y_train)\n"
   ]
  },
  {
   "cell_type": "markdown",
   "id": "0b0981b2",
   "metadata": {},
   "source": [
    "> #### (iii). Make predictions\n",
    "\n",
    "> --> Classify each paperless billing data by its estimated churn"
   ]
  },
  {
   "cell_type": "code",
   "execution_count": 159,
   "id": "adcba8d2",
   "metadata": {},
   "outputs": [
    {
     "data": {
      "text/plain": [
       "array([0, 0, 0, 0, 0])"
      ]
     },
     "execution_count": 159,
     "metadata": {},
     "output_type": "execute_result"
    }
   ],
   "source": [
    "# make prediction on train obeservations\n",
    "\n",
    "y_pred = clf.predict(X_train)\n",
    "y_pred[0:5]"
   ]
  },
  {
   "cell_type": "markdown",
   "id": "dafdda1a",
   "metadata": {},
   "source": [
    "> #### (iv). Estimate Probability\n",
    "\n",
    "> --> Estimate the probability each churn using train data"
   ]
  },
  {
   "cell_type": "code",
   "execution_count": 160,
   "id": "34187324",
   "metadata": {},
   "outputs": [
    {
     "data": {
      "text/plain": [
       "array([[0.99059086, 0.00940914],\n",
       "       [0.94480417, 0.05519583],\n",
       "       [0.99059086, 0.00940914],\n",
       "       [0.63707197, 0.36292803],\n",
       "       [0.9701023 , 0.0298977 ]])"
      ]
     },
     "execution_count": 160,
     "metadata": {},
     "output_type": "execute_result"
    }
   ],
   "source": [
    "y_pred_proba = clf.predict_proba(X_train)\n",
    "y_pred_proba[0:5]\n"
   ]
  },
  {
   "cell_type": "markdown",
   "id": "6bd0ce11",
   "metadata": {},
   "source": [
    "> ### Evaluate our model\n",
    ">> #### (a). Compute accuracy"
   ]
  },
  {
   "cell_type": "code",
   "execution_count": 161,
   "id": "285868db",
   "metadata": {},
   "outputs": [
    {
     "name": "stdout",
     "output_type": "stream",
     "text": [
      "Model accuracy: \n",
      "Decision Tree classifier on training set: 0.76\n"
     ]
    }
   ],
   "source": [
    "print('Model accuracy: ')\n",
    "print('Decision Tree classifier on training set: {:.2f}'\n",
    "      .format(clf.score(X_train, y_train)))"
   ]
  },
  {
   "cell_type": "markdown",
   "id": "e4cf5a37",
   "metadata": {},
   "source": [
    ">> #### (b). Confusion matrix"
   ]
  },
  {
   "cell_type": "code",
   "execution_count": 162,
   "id": "e202a42c",
   "metadata": {},
   "outputs": [
    {
     "data": {
      "text/plain": [
       "array([[4150754,       0],\n",
       "       [1339039,       0]])"
      ]
     },
     "execution_count": 162,
     "metadata": {},
     "output_type": "execute_result"
    }
   ],
   "source": [
    "# confusion matrix\n",
    "\n",
    "confusion_matrix(y_train, y_pred)\n"
   ]
  },
  {
   "cell_type": "code",
   "execution_count": 163,
   "id": "423cb2ed",
   "metadata": {},
   "outputs": [
    {
     "data": {
      "text/plain": [
       "0    4150754\n",
       "1    1339039\n",
       "Name: enc_churn, dtype: int64"
      ]
     },
     "execution_count": 163,
     "metadata": {},
     "output_type": "execute_result"
    }
   ],
   "source": [
    "# Count of y_train sets\n",
    "\n",
    "y_train.value_counts()\n"
   ]
  },
  {
   "cell_type": "markdown",
   "id": "2f9177e5",
   "metadata": {},
   "source": [
    ">> #### (c). Classification report"
   ]
  },
  {
   "cell_type": "code",
   "execution_count": 164,
   "id": "d7c76deb",
   "metadata": {},
   "outputs": [
    {
     "data": {
      "text/html": [
       "<div>\n",
       "<style scoped>\n",
       "    .dataframe tbody tr th:only-of-type {\n",
       "        vertical-align: middle;\n",
       "    }\n",
       "\n",
       "    .dataframe tbody tr th {\n",
       "        vertical-align: top;\n",
       "    }\n",
       "\n",
       "    .dataframe thead th {\n",
       "        text-align: right;\n",
       "    }\n",
       "</style>\n",
       "<table border=\"1\" class=\"dataframe\">\n",
       "  <thead>\n",
       "    <tr style=\"text-align: right;\">\n",
       "      <th></th>\n",
       "      <th>0</th>\n",
       "      <th>1</th>\n",
       "    </tr>\n",
       "  </thead>\n",
       "  <tbody>\n",
       "    <tr>\n",
       "      <th>0</th>\n",
       "      <td>4150754</td>\n",
       "      <td>0</td>\n",
       "    </tr>\n",
       "    <tr>\n",
       "      <th>1</th>\n",
       "      <td>1339039</td>\n",
       "      <td>0</td>\n",
       "    </tr>\n",
       "  </tbody>\n",
       "</table>\n",
       "</div>"
      ],
      "text/plain": [
       "         0  1\n",
       "0  4150754  0\n",
       "1  1339039  0"
      ]
     },
     "execution_count": 164,
     "metadata": {},
     "output_type": "execute_result"
    }
   ],
   "source": [
    "# Confusion matrix \n",
    "\n",
    "\n",
    "labels = sorted(y_train.unique())\n",
    "\n",
    "pd.DataFrame(confusion_matrix(y_train, y_pred), index = labels, columns = labels)\n"
   ]
  },
  {
   "cell_type": "code",
   "execution_count": 59,
   "id": "9219bbe4",
   "metadata": {},
   "outputs": [
    {
     "name": "stdout",
     "output_type": "stream",
     "text": [
      "              precision    recall  f1-score   support\n",
      "\n",
      "           0       0.76      1.00      0.86   4150754\n",
      "           1       0.00      0.00      0.00   1339039\n",
      "\n",
      "    accuracy                           0.76   5489793\n",
      "   macro avg       0.38      0.50      0.43   5489793\n",
      "weighted avg       0.57      0.76      0.65   5489793\n",
      "\n"
     ]
    }
   ],
   "source": [
    "# Print classification report (summary)\n",
    "\n",
    "print(classification_report(y_train, y_pred))"
   ]
  },
  {
   "cell_type": "markdown",
   "id": "a3d39e8c",
   "metadata": {},
   "source": [
    ">> #### (d).  Evaluate model with validate dataset\n",
    "\n",
    "> --> NOTE: validate data is our \"out-of-sample\" -  no exploration was conducted on the set"
   ]
  },
  {
   "cell_type": "code",
   "execution_count": 135,
   "id": "c4334166",
   "metadata": {},
   "outputs": [
    {
     "name": "stdout",
     "output_type": "stream",
     "text": [
      "-------------------------------------------------------------\n",
      "\n",
      "Accuracy of Decision Tree classifier on validate set: 0.75\n",
      "\n",
      "-------------------------------------------------------------\n"
     ]
    }
   ],
   "source": [
    "print('-------------------------------------------------------------')\n",
    "\n",
    "print('\\nAccuracy of Decision Tree classifier on validate set: {:.2f}\\n'\n",
    "     .format(clf.score(X_validate, y_validate)))\n",
    "print('-------------------------------------------------------------')\n"
   ]
  },
  {
   "cell_type": "code",
   "execution_count": 64,
   "id": "9fe2b431",
   "metadata": {},
   "outputs": [
    {
     "name": "stdout",
     "output_type": "stream",
     "text": [
      "              precision    recall  f1-score   support\n",
      "\n",
      "           0       0.75      1.00      0.86   1841952\n",
      "           1       0.00      0.00      0.00    618573\n",
      "\n",
      "    accuracy                           0.75   2460525\n",
      "   macro avg       0.37      0.50      0.43   2460525\n",
      "weighted avg       0.56      0.75      0.64   2460525\n",
      "\n"
     ]
    }
   ],
   "source": [
    "# And since accuracy isn't everything\n",
    "\n",
    "# Produce y_predictions that come from the X_validate\n",
    "y_pred = clf.predict(X_validate)\n",
    "\n",
    "# Compare actual y values (from validate) to predicted y_values from the model run on X_validate\n",
    "print(classification_report(y_validate, y_pred))\n"
   ]
  },
  {
   "cell_type": "code",
   "execution_count": null,
   "id": "46af0b0a",
   "metadata": {},
   "outputs": [],
   "source": []
  },
  {
   "cell_type": "markdown",
   "id": "922ccc53",
   "metadata": {},
   "source": [
    "># Modeling II: Random Forest \n"
   ]
  },
  {
   "cell_type": "code",
   "execution_count": 93,
   "id": "b0c0804e",
   "metadata": {},
   "outputs": [
    {
     "name": "stdout",
     "output_type": "stream",
     "text": [
      "\n",
      "\tProgram Status: Reading cleaned train data from a local cached csv file...\n",
      "\n",
      "\tProgram Status: Reading cleaned validate data from a local cached csv file...\n",
      "\n",
      "\tProgram Status: Reading cleaned test data from a local cached csv file...\n",
      "\n",
      "\tTrain Data: (5497669, 14) \n",
      "\tValidate Data:(2463974, 14)\n",
      "\tTest Data: (2064720, 14)\n"
     ]
    }
   ],
   "source": [
    "# Split data and save separate files of train, validate, test (Data already imported, cleaned, split & saved)\n",
    "# train, validate, test = clean_split_telco_data(telco, seed = 123)\n",
    "\n",
    "# Verify split ratios\n",
    "train_df_rf = clean_train_data()\n",
    "validate_df_rf = clean_validate_data()\n",
    "test_df_rf = clean_test_data()\n",
    "\n",
    "print(f'\\n\\tTrain Data: {train.shape} \\n\\tValidate Data:{validate.shape}\\n\\tTest Data: {test.shape}')\n"
   ]
  },
  {
   "cell_type": "code",
   "execution_count": 94,
   "id": "f08357a4",
   "metadata": {},
   "outputs": [],
   "source": [
    "# Drop non-encoded columns\n",
    "\n",
    "train_df_rf = train_df_rf.drop(columns =['churn', 'multiple_lines', 'tech_support'])\n",
    "validate_df_rf = validate_df_rf.drop(columns =['churn', 'multiple_lines', 'tech_support'])\n",
    "test_df_rf = test_df_rf.drop(columns =['churn', 'multiple_lines', 'tech_support'])\n",
    "\n",
    "# Drop NaN Columns\n",
    "train_df_rf = train_df_rf.dropna()\n",
    "validate_df_rf = validate_df_rf.dropna()\n",
    "test_df_rf = test_df_rf.dropna()"
   ]
  },
  {
   "cell_type": "code",
   "execution_count": 222,
   "id": "cdfeebb0",
   "metadata": {},
   "outputs": [],
   "source": [
    "# create X & y version of train, where y is a series with just the target variable and X are all the features. \n",
    "\n",
    "X_train_rf = train_df_rf.drop(columns=['enc_churn'])\n",
    "y_train_rf = train_df_rf.enc_churn\n",
    "\n",
    "X_validate_rf = validate_df_rf.drop(columns=['enc_churn'])\n",
    "y_validate_rf = validate_df_rf.enc_churn\n",
    "\n",
    "X_test_rf = test_df_rf.drop(columns=['enc_churn'])\n",
    "y_test_rf = test_df_rf.enc_churn"
   ]
  },
  {
   "cell_type": "markdown",
   "id": "c9c4e434",
   "metadata": {},
   "source": [
    ">### Train the model"
   ]
  },
  {
   "cell_type": "code",
   "execution_count": 111,
   "id": "b171bad6",
   "metadata": {},
   "outputs": [],
   "source": [
    "# Call the random forest classifier and set criterion as gini\n",
    "\n",
    "rf = RandomForestClassifier(bootstrap=True, \n",
    "                            class_weight=None, \n",
    "                            criterion='gini',\n",
    "                            min_samples_leaf=3,\n",
    "                            n_estimators=100,\n",
    "                            max_depth=3, \n",
    "                            random_state=123)\n"
   ]
  },
  {
   "cell_type": "markdown",
   "id": "234ab54f",
   "metadata": {},
   "source": [
    ">### Fit the model"
   ]
  },
  {
   "cell_type": "code",
   "execution_count": 114,
   "id": "b271b1f2",
   "metadata": {},
   "outputs": [
    {
     "data": {
      "text/plain": [
       "RandomForestClassifier(max_depth=3, min_samples_leaf=3, random_state=123)"
      ]
     },
     "execution_count": 114,
     "metadata": {},
     "output_type": "execute_result"
    }
   ],
   "source": [
    "rf.fit(X_train_rf, y_train_rf)"
   ]
  },
  {
   "cell_type": "markdown",
   "id": "f8853750",
   "metadata": {},
   "source": [
    ">### Feature Importance\n",
    "\n",
    "> --> Evaluate importance / weight of each feature"
   ]
  },
  {
   "cell_type": "code",
   "execution_count": 119,
   "id": "4cb666b8",
   "metadata": {},
   "outputs": [
    {
     "name": "stdout",
     "output_type": "stream",
     "text": [
      "[2.33957828e-01 1.43551844e-03 3.24890041e-05 1.53133464e-03\n",
      " 1.35866106e-02 1.23659304e-04 3.29851485e-02 1.22926916e-01\n",
      " 4.72823755e-01 1.20596741e-01]\n"
     ]
    }
   ],
   "source": [
    "print(rf.feature_importances_)"
   ]
  },
  {
   "cell_type": "markdown",
   "id": "c6af9253",
   "metadata": {},
   "source": [
    ">#### Make predictions\n",
    "> --> classify churn by estimated paperless billing"
   ]
  },
  {
   "cell_type": "code",
   "execution_count": 121,
   "id": "867bbfd8",
   "metadata": {},
   "outputs": [
    {
     "data": {
      "text/plain": [
       "array([0, 0, 0, ..., 0, 0, 0])"
      ]
     },
     "execution_count": 121,
     "metadata": {},
     "output_type": "execute_result"
    }
   ],
   "source": [
    "y_pred_rf = rf.predict(X_train_rf)\n",
    "y_pred_rf"
   ]
  },
  {
   "cell_type": "markdown",
   "id": "5325186e",
   "metadata": {},
   "source": [
    ">### Estimate probability\n",
    "> --> Estimate probability of of either churn or not using train data"
   ]
  },
  {
   "cell_type": "code",
   "execution_count": 122,
   "id": "fbf5ebc1",
   "metadata": {},
   "outputs": [
    {
     "data": {
      "text/plain": [
       "array([[0.93981497, 0.06018503],\n",
       "       [0.89748415, 0.10251585],\n",
       "       [0.95844596, 0.04155404],\n",
       "       ...,\n",
       "       [0.71862872, 0.28137128],\n",
       "       [0.75551088, 0.24448912],\n",
       "       [0.89912412, 0.10087588]])"
      ]
     },
     "execution_count": 122,
     "metadata": {},
     "output_type": "execute_result"
    }
   ],
   "source": [
    "y_pred_proba_rf = rf.predict_proba(X_train_rf)\n",
    "y_pred_proba_rf"
   ]
  },
  {
   "cell_type": "markdown",
   "id": "5e22ff1a",
   "metadata": {},
   "source": [
    "> ## Evaluate Random Forest Model Accuracy\n"
   ]
  },
  {
   "cell_type": "code",
   "execution_count": 123,
   "id": "bebe9575",
   "metadata": {},
   "outputs": [
    {
     "name": "stdout",
     "output_type": "stream",
     "text": [
      "Accuracy of random forest classifier on training set: 0.76\n"
     ]
    }
   ],
   "source": [
    "print('Accuracy of random forest classifier on training set: {:.2f}'\n",
    "     .format(rf.score(X_train_rf, y_train_rf)))"
   ]
  },
  {
   "cell_type": "markdown",
   "id": "b83d9b0d",
   "metadata": {},
   "source": [
    "> ### Create confusion matrix"
   ]
  },
  {
   "cell_type": "code",
   "execution_count": 126,
   "id": "290a02b0",
   "metadata": {},
   "outputs": [
    {
     "name": "stdout",
     "output_type": "stream",
     "text": [
      "[[4150754       0]\n",
      " [1339039       0]]\n"
     ]
    }
   ],
   "source": [
    "print(confusion_matrix(y_train_rf, y_pred_rf))"
   ]
  },
  {
   "cell_type": "markdown",
   "id": "b1b75d77",
   "metadata": {},
   "source": [
    "> ### Create classification report (summary) "
   ]
  },
  {
   "cell_type": "code",
   "execution_count": 128,
   "id": "01a5303b",
   "metadata": {},
   "outputs": [
    {
     "name": "stdout",
     "output_type": "stream",
     "text": [
      "              precision    recall  f1-score   support\n",
      "\n",
      "           0       0.76      1.00      0.86   4150754\n",
      "           1       0.00      0.00      0.00   1339039\n",
      "\n",
      "    accuracy                           0.76   5489793\n",
      "   macro avg       0.38      0.50      0.43   5489793\n",
      "weighted avg       0.57      0.76      0.65   5489793\n",
      "\n"
     ]
    }
   ],
   "source": [
    "print(classification_report(y_train_rf, y_pred_rf))"
   ]
  },
  {
   "cell_type": "markdown",
   "id": "7e6f8feb",
   "metadata": {},
   "source": [
    "> ### Evaluate out of sample data"
   ]
  },
  {
   "cell_type": "code",
   "execution_count": 134,
   "id": "2035ac38",
   "metadata": {},
   "outputs": [
    {
     "name": "stdout",
     "output_type": "stream",
     "text": [
      "-------------------------------------------------------------\n",
      "\n",
      "Accuracy of random forest classifier on test set: 0.75\n",
      "\n",
      "-------------------------------------------------------------\n"
     ]
    }
   ],
   "source": [
    "print('-------------------------------------------------------------')\n",
    "print('\\nAccuracy of random forest classifier on test set: {:.2f}\\n'\n",
    "     .format(rf.score(X_validate_rf, y_validate_rf)))\n",
    "print('-------------------------------------------------------------')\n"
   ]
  },
  {
   "cell_type": "markdown",
   "id": "346458e1",
   "metadata": {},
   "source": [
    "># Modeling III: K-Nearest Neighbor\n"
   ]
  },
  {
   "cell_type": "code",
   "execution_count": 106,
   "id": "2d727130",
   "metadata": {},
   "outputs": [
    {
     "name": "stdout",
     "output_type": "stream",
     "text": [
      "\n",
      "\tProgram Status: Reading cleaned train data from a local cached csv file...\n",
      "\n",
      "\tProgram Status: Reading cleaned validate data from a local cached csv file...\n",
      "\n",
      "\tProgram Status: Reading cleaned test data from a local cached csv file...\n",
      "\n",
      "\tTrain Data: (5497669, 14) \n",
      "\tValidate Data:(2463974, 14)\n",
      "\tTest Data: (2064720, 14)\n"
     ]
    }
   ],
   "source": [
    "# Split data and save separate files of train, validate, test (Data already imported, cleaned, split & saved)\n",
    "# train, validate, test = clean_split_telco_data(telco, seed = 123)\n",
    "\n",
    "# Verify split ratios\n",
    "train_df_knn = clean_train_data()\n",
    "validate_df_knn = clean_validate_data()\n",
    "test_df_knn = clean_test_data()\n",
    "\n",
    "print(f'\\n\\tTrain Data: {train.shape} \\n\\tValidate Data:{validate.shape}\\n\\tTest Data: {test.shape}')\n"
   ]
  },
  {
   "cell_type": "code",
   "execution_count": 107,
   "id": "16309c11",
   "metadata": {},
   "outputs": [],
   "source": [
    "# Drop non-encoded columns\n",
    "\n",
    "train_df_knn = train_df_knn.drop(columns =['churn', 'multiple_lines', 'tech_support'])\n",
    "validate_df_knn = validate_df_knn.drop(columns =['churn', 'multiple_lines', 'tech_support'])\n",
    "test_df_knn = test_df_knn.drop(columns =['churn', 'multiple_lines', 'tech_support'])\n",
    "\n",
    "# Drop NaN Columns\n",
    "train_df_knn = train_df_knn.dropna()\n",
    "validate_df_knn = validate_df_knn.dropna()\n",
    "test_df_knn = test_df_knn.dropna()"
   ]
  },
  {
   "cell_type": "code",
   "execution_count": 108,
   "id": "3cf41e21",
   "metadata": {},
   "outputs": [
    {
     "data": {
      "text/html": [
       "<div>\n",
       "<style scoped>\n",
       "    .dataframe tbody tr th:only-of-type {\n",
       "        vertical-align: middle;\n",
       "    }\n",
       "\n",
       "    .dataframe tbody tr th {\n",
       "        vertical-align: top;\n",
       "    }\n",
       "\n",
       "    .dataframe thead th {\n",
       "        text-align: right;\n",
       "    }\n",
       "</style>\n",
       "<table border=\"1\" class=\"dataframe\">\n",
       "  <thead>\n",
       "    <tr style=\"text-align: right;\">\n",
       "      <th></th>\n",
       "      <th>tenure</th>\n",
       "      <th>monthly_charges</th>\n",
       "      <th>total_charges</th>\n",
       "      <th>enc_churn</th>\n",
       "      <th>enc_partner</th>\n",
       "      <th>enc_dependents</th>\n",
       "      <th>enc_phone_service</th>\n",
       "      <th>enc_paperless_billing</th>\n",
       "      <th>enc_payment</th>\n",
       "      <th>enc_contract_type</th>\n",
       "      <th>enc_intenet_service_type</th>\n",
       "    </tr>\n",
       "  </thead>\n",
       "  <tbody>\n",
       "    <tr>\n",
       "      <th>0</th>\n",
       "      <td>39</td>\n",
       "      <td>73.85</td>\n",
       "      <td>401.30</td>\n",
       "      <td>0</td>\n",
       "      <td>0</td>\n",
       "      <td>0</td>\n",
       "      <td>1</td>\n",
       "      <td>0</td>\n",
       "      <td>2</td>\n",
       "      <td>3</td>\n",
       "      <td>3</td>\n",
       "    </tr>\n",
       "    <tr>\n",
       "      <th>1</th>\n",
       "      <td>72</td>\n",
       "      <td>74.25</td>\n",
       "      <td>4859.25</td>\n",
       "      <td>0</td>\n",
       "      <td>1</td>\n",
       "      <td>0</td>\n",
       "      <td>1</td>\n",
       "      <td>1</td>\n",
       "      <td>3</td>\n",
       "      <td>3</td>\n",
       "      <td>1</td>\n",
       "    </tr>\n",
       "    <tr>\n",
       "      <th>2</th>\n",
       "      <td>68</td>\n",
       "      <td>35.05</td>\n",
       "      <td>35.05</td>\n",
       "      <td>0</td>\n",
       "      <td>1</td>\n",
       "      <td>1</td>\n",
       "      <td>1</td>\n",
       "      <td>0</td>\n",
       "      <td>2</td>\n",
       "      <td>3</td>\n",
       "      <td>3</td>\n",
       "    </tr>\n",
       "    <tr>\n",
       "      <th>3</th>\n",
       "      <td>22</td>\n",
       "      <td>94.40</td>\n",
       "      <td>857.25</td>\n",
       "      <td>1</td>\n",
       "      <td>1</td>\n",
       "      <td>1</td>\n",
       "      <td>1</td>\n",
       "      <td>0</td>\n",
       "      <td>1</td>\n",
       "      <td>1</td>\n",
       "      <td>2</td>\n",
       "    </tr>\n",
       "    <tr>\n",
       "      <th>4</th>\n",
       "      <td>50</td>\n",
       "      <td>56.15</td>\n",
       "      <td>168.15</td>\n",
       "      <td>0</td>\n",
       "      <td>0</td>\n",
       "      <td>0</td>\n",
       "      <td>1</td>\n",
       "      <td>1</td>\n",
       "      <td>2</td>\n",
       "      <td>2</td>\n",
       "      <td>3</td>\n",
       "    </tr>\n",
       "  </tbody>\n",
       "</table>\n",
       "</div>"
      ],
      "text/plain": [
       "   tenure  monthly_charges  total_charges  enc_churn  enc_partner  \\\n",
       "0      39            73.85         401.30          0            0   \n",
       "1      72            74.25        4859.25          0            1   \n",
       "2      68            35.05          35.05          0            1   \n",
       "3      22            94.40         857.25          1            1   \n",
       "4      50            56.15         168.15          0            0   \n",
       "\n",
       "   enc_dependents  enc_phone_service  enc_paperless_billing  enc_payment  \\\n",
       "0               0                  1                      0            2   \n",
       "1               0                  1                      1            3   \n",
       "2               1                  1                      0            2   \n",
       "3               1                  1                      0            1   \n",
       "4               0                  1                      1            2   \n",
       "\n",
       "   enc_contract_type  enc_intenet_service_type  \n",
       "0                  3                         3  \n",
       "1                  3                         1  \n",
       "2                  3                         3  \n",
       "3                  1                         2  \n",
       "4                  2                         3  "
      ]
     },
     "execution_count": 108,
     "metadata": {},
     "output_type": "execute_result"
    }
   ],
   "source": [
    "train_df_knn.head()"
   ]
  },
  {
   "cell_type": "code",
   "execution_count": 141,
   "id": "8454266d",
   "metadata": {},
   "outputs": [],
   "source": [
    "\n",
    "# create X & y version of train, where y is a series with just the target variable and X are all the features. \n",
    "\n",
    "X_train_knn = train_df_knn.drop(columns=['enc_churn'])\n",
    "y_train_knn = train_df_knn.enc_churn\n",
    "\n",
    "X_validate_knn = validate_df_knn.drop(columns=['enc_churn'])\n",
    "y_validate_knn = validate_df_knn.enc_churn\n",
    "\n",
    "X_test_knn = test_df_knn.drop(columns=['enc_churn'])\n",
    "y_test_knn = test_df_knn.enc_churn"
   ]
  },
  {
   "cell_type": "markdown",
   "id": "61dbf0e9",
   "metadata": {},
   "source": [
    "> ### Train the model"
   ]
  },
  {
   "cell_type": "code",
   "execution_count": 142,
   "id": "898f8b6f",
   "metadata": {},
   "outputs": [],
   "source": [
    "# weights = ['uniform', 'density']\n",
    "knn = KNeighborsClassifier(n_neighbors=5, weights = 'uniform')"
   ]
  },
  {
   "cell_type": "markdown",
   "id": "30f15c51",
   "metadata": {},
   "source": [
    ">### Fit the model\n",
    "\n",
    "> --> ...to the knn training data"
   ]
  },
  {
   "cell_type": "code",
   "execution_count": 143,
   "id": "18bbe193",
   "metadata": {},
   "outputs": [
    {
     "data": {
      "text/plain": [
       "KNeighborsClassifier()"
      ]
     },
     "execution_count": 143,
     "metadata": {},
     "output_type": "execute_result"
    }
   ],
   "source": [
    "knn.fit(X_train_knn, y_train_knn)"
   ]
  },
  {
   "cell_type": "markdown",
   "id": "25efdb95",
   "metadata": {},
   "source": [
    ">### Make predictions\n",
    "> --> classify paperless billing by churning options"
   ]
  },
  {
   "cell_type": "code",
   "execution_count": 145,
   "id": "a41a4491",
   "metadata": {},
   "outputs": [],
   "source": [
    "y_pred_knn = knn.predict(X_train_knn)"
   ]
  },
  {
   "cell_type": "markdown",
   "id": "44ec5f72",
   "metadata": {},
   "source": [
    ">### Estimate probability"
   ]
  },
  {
   "cell_type": "code",
   "execution_count": 146,
   "id": "f725f9c4",
   "metadata": {},
   "outputs": [],
   "source": [
    "y_pred_proba_knn = knn.predict_proba(X_train_knn)"
   ]
  },
  {
   "cell_type": "markdown",
   "id": "eb6bc04c",
   "metadata": {},
   "source": [
    "> ## Evaluate the K-Nearest Neighbor model"
   ]
  },
  {
   "cell_type": "code",
   "execution_count": 169,
   "id": "7b284927",
   "metadata": {},
   "outputs": [
    {
     "name": "stdout",
     "output_type": "stream",
     "text": [
      "-------------------------------------------------------------\n",
      "Accuracy of KNN classifier on training set: 0.82\n",
      "-------------------------------------------------------------\n"
     ]
    }
   ],
   "source": [
    "print('-------------------------------------------------------------')\n",
    "\n",
    "print('Accuracy of KNN classifier on training set: {:.2f}'\n",
    "     .format(knn.score(X_train_knn, y_train_knn)))\n",
    "print('-------------------------------------------------------------')\n"
   ]
  },
  {
   "cell_type": "markdown",
   "id": "8db0001b",
   "metadata": {},
   "source": [
    ">### Confusion matrix"
   ]
  },
  {
   "cell_type": "code",
   "execution_count": 148,
   "id": "1d99ee24",
   "metadata": {},
   "outputs": [
    {
     "name": "stdout",
     "output_type": "stream",
     "text": [
      "[[3770906  379848]\n",
      " [ 632736  706303]]\n"
     ]
    }
   ],
   "source": [
    "print(confusion_matrix(y_train_knn, y_pred_knn))"
   ]
  },
  {
   "cell_type": "markdown",
   "id": "87fd8a89",
   "metadata": {},
   "source": [
    ">### Classification matrix"
   ]
  },
  {
   "cell_type": "code",
   "execution_count": 214,
   "id": "d4520d45",
   "metadata": {},
   "outputs": [
    {
     "name": "stdout",
     "output_type": "stream",
     "text": [
      "              precision    recall  f1-score   support\n",
      "\n",
      "           0       0.86      0.91      0.88   4150754\n",
      "           1       0.65      0.53      0.58   1339039\n",
      "\n",
      "    accuracy                           0.82   5489793\n",
      "   macro avg       0.75      0.72      0.73   5489793\n",
      "weighted avg       0.81      0.82      0.81   5489793\n",
      "\n"
     ]
    }
   ],
   "source": [
    "print(classification_report(y_train_knn, y_pred_knn))"
   ]
  },
  {
   "cell_type": "markdown",
   "id": "d096f990",
   "metadata": {},
   "source": [
    "### Out-of-sample evaulation\n"
   ]
  },
  {
   "cell_type": "code",
   "execution_count": 219,
   "id": "950b0193",
   "metadata": {},
   "outputs": [
    {
     "name": "stdout",
     "output_type": "stream",
     "text": [
      "-------------------------------------------------------------\n",
      "Accuracy of k-nearest neighbor classifier on test set: 0.74\n",
      "-------------------------------------------------------------\n"
     ]
    }
   ],
   "source": [
    "print('-------------------------------------------------------------')\n",
    "print('Accuracy of k-nearest neighbor classifier on test set: {:.2f}'\n",
    "     .format(knn.score(X_validate_knn, y_validate_knn)))\n",
    "print('-------------------------------------------------------------')\n"
   ]
  },
  {
   "cell_type": "markdown",
   "id": "6a9907db",
   "metadata": {},
   "source": [
    "# Summary & Conclusion\n",
    "\n",
    ">## Three models classification report summary:"
   ]
  },
  {
   "cell_type": "markdown",
   "id": "6251885d",
   "metadata": {},
   "source": [
    ">## Model I (Decision Tree)"
   ]
  },
  {
   "cell_type": "code",
   "execution_count": 165,
   "id": "fbf683ad",
   "metadata": {},
   "outputs": [
    {
     "name": "stdout",
     "output_type": "stream",
     "text": [
      "              precision    recall  f1-score   support\n",
      "\n",
      "           0       0.76      1.00      0.86   4150754\n",
      "           1       0.00      0.00      0.00   1339039\n",
      "\n",
      "    accuracy                           0.76   5489793\n",
      "   macro avg       0.38      0.50      0.43   5489793\n",
      "weighted avg       0.57      0.76      0.65   5489793\n",
      "\n"
     ]
    }
   ],
   "source": [
    "# Print classification report (summary)\n",
    "\n",
    "print(classification_report(y_train, y_pred))"
   ]
  },
  {
   "cell_type": "markdown",
   "id": "7c8e2d3c",
   "metadata": {},
   "source": [
    ">## Model III (Random Forest)"
   ]
  },
  {
   "cell_type": "code",
   "execution_count": 168,
   "id": "c67e0032",
   "metadata": {},
   "outputs": [
    {
     "name": "stdout",
     "output_type": "stream",
     "text": [
      "              precision    recall  f1-score   support\n",
      "\n",
      "           0       0.76      1.00      0.86   4150754\n",
      "           1       0.00      0.00      0.00   1339039\n",
      "\n",
      "    accuracy                           0.76   5489793\n",
      "   macro avg       0.38      0.50      0.43   5489793\n",
      "weighted avg       0.57      0.76      0.65   5489793\n",
      "\n"
     ]
    }
   ],
   "source": [
    "print(classification_report(y_train_rf, y_pred_rf))"
   ]
  },
  {
   "cell_type": "markdown",
   "id": "dba4ef8a",
   "metadata": {},
   "source": [
    "> ## Model III (K-Nearest Forest)"
   ]
  },
  {
   "cell_type": "code",
   "execution_count": 167,
   "id": "99d53c8e",
   "metadata": {},
   "outputs": [
    {
     "name": "stdout",
     "output_type": "stream",
     "text": [
      "              precision    recall  f1-score   support\n",
      "\n",
      "           0       0.86      0.91      0.88   4150754\n",
      "           1       0.65      0.53      0.58   1339039\n",
      "\n",
      "    accuracy                           0.82   5489793\n",
      "   macro avg       0.75      0.72      0.73   5489793\n",
      "weighted avg       0.81      0.82      0.81   5489793\n",
      "\n"
     ]
    }
   ],
   "source": [
    "print(classification_report(y_train_knn, y_pred_knn))"
   ]
  },
  {
   "cell_type": "markdown",
   "id": "e96c6a7b",
   "metadata": {},
   "source": [
    "## Model Selection\n",
    "\n",
    "\n",
    "From the classification report we can conclude that Model III yields us the best accuracy for our data of 82%. Model I and model II both have an accuracy of 76%. This project will adapt model three and adapt the alternate hypothesis that \"Mean of churned customers using paperless billing  > mean of non-churned customers not using paperless billing\". \n",
    "\n",
    "Future build on this project(or with more time):\n",
    "\n",
    "- Consider tweaking other features within the data set to include:\n",
    "           - How the high rate in the phone service affect accuracy in paperless billing \n",
    "           - Whether a user has multiple lines or not\n",
    "           - Is the phone line bundled with the internet service?\n",
    "           - Lenght of tenure with the company\n",
    "           - If the customer is a senior citizen or not\n"
   ]
  }
 ],
 "metadata": {
  "kernelspec": {
   "display_name": "Python 3 (ipykernel)",
   "language": "python",
   "name": "python3"
  },
  "language_info": {
   "codemirror_mode": {
    "name": "ipython",
    "version": 3
   },
   "file_extension": ".py",
   "mimetype": "text/x-python",
   "name": "python",
   "nbconvert_exporter": "python",
   "pygments_lexer": "ipython3",
   "version": "3.9.7"
  }
 },
 "nbformat": 4,
 "nbformat_minor": 5
}
