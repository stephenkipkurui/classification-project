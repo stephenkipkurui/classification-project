{
 "cells": [
  {
   "cell_type": "markdown",
   "id": "c17fa1e9",
   "metadata": {},
   "source": [
    "# Innis Classification Project\n",
    ">By Stephen Kipkurui\n"
   ]
  },
  {
   "cell_type": "markdown",
   "id": "763e8892",
   "metadata": {},
   "source": [
    "# Project Overview\n",
    "\n",
    "## Customer Churning, why? \n",
    "\n",
    "\n",
    ">### This project aims to statistically explore and formulate the factors that contribute to observed increase in customer churning at Telco Company with a main focus to answer the question '..why are customers parting ways with company services?' Inferred findings are to be used in advicing possible measures to be implemented to reduce the current customer loss rate. "
   ]
  },
  {
   "cell_type": "markdown",
   "id": "591fb42c",
   "metadata": {},
   "source": [
    "# Procedure\n",
    "\n",
    ">## (1). Acquire data\n",
    "\n",
    ">## (2). Exploratory data analysis (Find drivers for churn)\n",
    "\n",
    ">## (2). Split the data into 3 sets\n",
    "\n",
    ">## (3). Visualize the distributions\n",
    "\n",
    ">## (4). Choose a hypothesis\n",
    "\n",
    ">## (5). Evaluate best Model\n",
    "\n",
    ">## (6). Make recommendations"
   ]
  },
  {
   "cell_type": "markdown",
   "id": "b80a1f71",
   "metadata": {},
   "source": [
    "# STEP 1: Acquire the main dataframe (Project valid as of: 03/10/2022)"
   ]
  },
  {
   "cell_type": "code",
   "execution_count": 5,
   "id": "5e3727b7",
   "metadata": {},
   "outputs": [
    {
     "name": "stdout",
     "output_type": "stream",
     "text": [
      "\n",
      "\tProgram Status: Reading Raw Telco Data from a local cached csv file...\n"
     ]
    }
   ],
   "source": [
    "# Call acquire module and call function get_telco data to get telco data\n",
    "\n",
    "telco = acquireTelco.get_telco_data() "
   ]
  },
  {
   "cell_type": "markdown",
   "id": "7a90558d",
   "metadata": {},
   "source": [
    "# STEP 2:  Exploratory Data Analysis \n",
    "\n",
    ">##  PURPOSE:  - Explore data to discover driver(s) for churn  on our target variables \n",
    "\n",
    "\n",
    ">## Clean, encode categorical data and split into train, validate, and test \n",
    "\n",
    "\n",
    ">## Understand drivers\n"
   ]
  },
  {
   "cell_type": "markdown",
   "id": "ea6fe908",
   "metadata": {},
   "source": [
    "# Import required Modules"
   ]
  },
  {
   "cell_type": "code",
   "execution_count": 6,
   "id": "980715ee",
   "metadata": {},
   "outputs": [],
   "source": [
    "# Python import libraries for statistical infference, manipulations and visualizations\n",
    "\n",
    "import pandas as pd\n",
    "import numpy as np\n",
    "import matplotlib.pyplot as plt\n",
    "import seaborn as sns\n",
    "\n",
    "\n",
    "import env\n",
    "import acquireTelco\n",
    "import prepareTelco\n",
    "\n",
    "from acquireTelco import get_telco_data\n",
    "from acquireTelco import clean_train_data\n",
    "from acquireTelco import clean_validate_data\n",
    "from acquireTelco import clean_test_data\n",
    "from prepareTelco import clean_split_telco_data\n",
    "\n",
    "\n",
    "import warnings\n",
    "warnings.filterwarnings('ignore')\n",
    "\n",
    "\n",
    "import scipy.stats as stats\n",
    "from sklearn.metrics import confusion_matrix\n",
    "from sklearn.tree import DecisionTreeClassifier, plot_tree\n",
    "from sklearn.metrics import classification_report\n",
    "from sklearn.model_selection import train_test_split\n",
    "from sklearn.ensemble import RandomForestClassifier\n",
    "from sklearn.neighbors import KNeighborsClassifier"
   ]
  },
  {
   "cell_type": "markdown",
   "id": "dcecc03f",
   "metadata": {},
   "source": [
    "# STEP 3: Split the data"
   ]
  },
  {
   "cell_type": "code",
   "execution_count": 7,
   "id": "f249ef01",
   "metadata": {},
   "outputs": [
    {
     "name": "stdout",
     "output_type": "stream",
     "text": [
      "\n",
      "\tTrain Data: (5497669, 14) \n",
      "\tValidate Data:(2463974, 14)\n",
      "\tTest Data: (2064720, 14)\n"
     ]
    }
   ],
   "source": [
    "# Split data and save separate files of train, validate, test\n",
    "\n",
    "train, validate, test = clean_split_telco_data(telco)\n",
    "\n",
    "# Verify split ratios \n",
    "\n",
    "print(f'\\n\\tTrain Data: {train.shape} \\n\\tValidate Data:{validate.shape}\\n\\tTest Data: {test.shape}')"
   ]
  },
  {
   "cell_type": "markdown",
   "id": "913f8480",
   "metadata": {},
   "source": [
    "## Train test, validate & test"
   ]
  },
  {
   "cell_type": "markdown",
   "id": "605f741a",
   "metadata": {},
   "source": [
    "\n",
    ">### Train: 56%\n",
    "\n",
    ">### Validate: 24%\n",
    "\n",
    ">### Test: 20%\n"
   ]
  },
  {
   "cell_type": "code",
   "execution_count": 8,
   "id": "d91efcba",
   "metadata": {},
   "outputs": [
    {
     "name": "stdout",
     "output_type": "stream",
     "text": [
      "\n",
      "\tProgram Status: Reading cleaned train data from a local cached csv file...\n",
      "\n",
      "\tProgram Status: Reading cleaned validate data from a local cached csv file...\n",
      "\n",
      "\tProgram Status: Reading cleaned test data from a local cached csv file...\n"
     ]
    }
   ],
   "source": [
    "train_df = clean_train_data() # acquire cleaned train dataset\n",
    "validate_df = clean_validate_data()# acquire cleaned validated dataset\n",
    "test_df = clean_test_data()# acquire cleaned test dataset"
   ]
  },
  {
   "cell_type": "markdown",
   "id": "856920f4",
   "metadata": {},
   "source": [
    "# STEP 4: Visualize features relationships "
   ]
  },
  {
   "cell_type": "markdown",
   "id": "20809f33",
   "metadata": {},
   "source": [
    ">## Visualize Distributions: \n",
    ">>### A. Overall churned vs non-churned customers\n",
    ">>### B. Overall paperless vs non paperless customers\n",
    ">>### C. Overall phone customers\n",
    "\n",
    ">## Dive deeper:\n",
    ">>### D. Churned vs non-churned paperless billing customers\n",
    "\n"
   ]
  },
  {
   "cell_type": "markdown",
   "id": "38d50397",
   "metadata": {},
   "source": [
    "# Project Features of interest:\n",
    "\n",
    ">### -  How does **churn** rate vary?\n",
    ">### -  **Billing format**, in theory may play big role in churning, can we find any effect of this feature?\n",
    "\n",
    ">#### Visualize relationship of categorical variables relatioships to target variable\n",
    "> (using **train data set** moving forward)\n",
    "\n",
    "### Initial Hypothesis \n",
    "\n",
    "\n",
    "#### Ho: Phone customers utlizing paperless billing  are less likely to churn than phone customers who do not\n",
    "\n",
    "\n",
    "#### H1: Phone customers utlizing paperless billing  are likely to churn than phone customers who do not"
   ]
  },
  {
   "cell_type": "markdown",
   "id": "377b3613",
   "metadata": {},
   "source": [
    ">### Create churn vs non-churn customers datasets"
   ]
  },
  {
   "cell_type": "code",
   "execution_count": 9,
   "id": "c54ce3e1",
   "metadata": {},
   "outputs": [],
   "source": [
    "# churned dataset\n",
    "\n",
    "churned_df = train_df[train_df.enc_churn == 1]\n",
    "non_churned_df = train_df[train_df.enc_churn == 0]"
   ]
  },
  {
   "cell_type": "markdown",
   "id": "8b380b20",
   "metadata": {},
   "source": [
    "### Step I. Overall churn rate "
   ]
  },
  {
   "cell_type": "code",
   "execution_count": 10,
   "id": "1eea0fb8",
   "metadata": {},
   "outputs": [
    {
     "data": {
      "text/plain": [
       "<function matplotlib.pyplot.show(close=None, block=None)>"
      ]
     },
     "execution_count": 10,
     "metadata": {},
     "output_type": "execute_result"
    },
    {
     "data": {
      "image/png": "[encoded data removed]",
      "text/plain": [
       "<Figure size 1080x648 with 1 Axes>"
      ]
     },
     "metadata": {
      "needs_background": "light"
     },
     "output_type": "display_data"
    }
   ],
   "source": [
    "# Histogram (train dataset churn rate)\n",
    "\n",
    "plt.figure(figsize = (15, 9))\n",
    "plt.title('Overall train dataset churn rate', color = 'black', size = 22)\n",
    "\n",
    "train_df.enc_churn.hist(color = 'green')\n",
    "plt.ylabel('Value count')\n",
    "plt.xlabel('Churn vs non-churn')\n",
    "plt.show"
   ]
  },
  {
   "cell_type": "markdown",
   "id": "c25f7f99",
   "metadata": {},
   "source": [
    "### KEY: \n",
    "\n",
    "### '1' == Churn \n",
    "\n",
    "### '0' != churn \n",
    "\n",
    "\n",
    ">### --->  OBSERVATION: Overall approx 33% or 1 in 3 of our customers are churning\n",
    "\n",
    "> ### What does this mean?\n",
    "\n",
    "\n",
    "## Step II. Expore overall paperless billing distribution "
   ]
  },
  {
   "cell_type": "code",
   "execution_count": 11,
   "id": "7daaf0f3",
   "metadata": {},
   "outputs": [
    {
     "data": {
      "text/plain": [
       "<function matplotlib.pyplot.show(close=None, block=None)>"
      ]
     },
     "execution_count": 11,
     "metadata": {},
     "output_type": "execute_result"
    },
    {
     "data": {
      "image/png": "[encoded data removed]",
      "text/plain": [
       "<Figure size 1080x648 with 1 Axes>"
      ]
     },
     "metadata": {
      "needs_background": "light"
     },
     "output_type": "display_data"
    }
   ],
   "source": [
    "# Histogram (Proportion of paperless billing customers)\n",
    "\n",
    "plt.figure(figsize = (15, 9))\n",
    "plt.title('Overall paperless billing distribution', color = 'black', size = 22)\n",
    "train_df.enc_paperless_billing.hist(color = 'red')\n",
    "plt.ylabel('# Count values', color = 'black', size = 16)\n",
    "plt.xlabel('(\\'1\\' = Paperless billing) | (\\'0\\' = Non-paperless billing)', color = 'black', size = 16)\n",
    "\n",
    "plt.show"
   ]
  },
  {
   "cell_type": "markdown",
   "id": "5aae867b",
   "metadata": {},
   "source": [
    "### --> Obeservation: Approximately 60% of Telco customers are using paperless billing\n",
    "\n",
    "\n",
    "### Let's explore this group of our data further..."
   ]
  },
  {
   "cell_type": "code",
   "execution_count": 12,
   "id": "e665e4e1",
   "metadata": {},
   "outputs": [],
   "source": [
    "# churned paperless billing \n",
    "\n",
    "churned_paperless_bill = train_df[train_df.enc_churn == 1].enc_paperless_billing\n",
    "non_churned_paperless_bill = train_df[train_df.enc_churn == 0].enc_paperless_billing"
   ]
  },
  {
   "cell_type": "code",
   "execution_count": 13,
   "id": "c60c0d07",
   "metadata": {},
   "outputs": [
    {
     "data": {
      "image/png": "[encoded data removed]",
      "text/plain": [
       "<Figure size 1080x648 with 1 Axes>"
      ]
     },
     "metadata": {
      "needs_background": "light"
     },
     "output_type": "display_data"
    }
   ],
   "source": [
    "# Histogram (Proportion of phone services customers)\n",
    "\n",
    "plt.figure(figsize = (15, 9))\n",
    "plt.title('CHURNED: Paperless Billing Distribution ', color = 'black', size = 22)\n",
    "churned_paperless_bill.hist(color = 'red')\n",
    "plt.ylabel('# Churn count values', color = 'black', size = 16)\n",
    "plt.xlabel('(\\'1\\' = Paperless billing)  | (\\'0\\' = Non-paperless billing)', color = 'black', size = 16)\n",
    "plt.show()"
   ]
  },
  {
   "cell_type": "markdown",
   "id": "05373f63",
   "metadata": {},
   "source": [
    ">### ---> OBSERVATION: More than half of our customers that churned use paperless billing"
   ]
  },
  {
   "cell_type": "code",
   "execution_count": 15,
   "id": "b3d73f42",
   "metadata": {},
   "outputs": [
    {
     "data": {
      "image/png": "[encoded data removed]",
      "text/plain": [
       "<Figure size 1080x648 with 1 Axes>"
      ]
     },
     "metadata": {
      "needs_background": "light"
     },
     "output_type": "display_data"
    }
   ],
   "source": [
    "# Histogram (Proportion of phone services customers)\n",
    "\n",
    "plt.figure(figsize = (15, 9))\n",
    "plt.title('NON-CHURNED: Paperless Billing Distribution ', color = 'black', size = 22)\n",
    "non_churned_paperless_bill.hist(color = 'green')\n",
    "plt.ylabel('# Churn count values', color = 'black', size = 16)\n",
    "plt.xlabel('\\'1\\' = Paperless billing  | \\'0\\' = Non-paperless billing', \n",
    "           color = 'black', \n",
    "           size = 16)\n",
    "plt.show()"
   ]
  },
  {
   "cell_type": "markdown",
   "id": "640db030",
   "metadata": {},
   "source": [
    "## Deeper Examinations"
   ]
  },
  {
   "cell_type": "markdown",
   "id": "c1515b2b",
   "metadata": {},
   "source": [
    ">### Examine Papeless Billing Comparance (churned vs non-churned)\n"
   ]
  },
  {
   "cell_type": "code",
   "execution_count": 16,
   "id": "ed75432d",
   "metadata": {},
   "outputs": [
    {
     "name": "stdout",
     "output_type": "stream",
     "text": [
      "\n",
      "Churned customers using Paperless billing (mean): 71.63%\n",
      "\n",
      "Non-Churned customers using Paperless billing (mean): 55.61%\n",
      "\n",
      "------------------------------------------\n",
      "--->  [[OBSERVATION]]: Equal proportion of churn vs no churn among phone customers alone\n",
      "------------------------------------------\n"
     ]
    },
    {
     "data": {
      "text/plain": [
       "<Figure size 1080x720 with 0 Axes>"
      ]
     },
     "metadata": {},
     "output_type": "display_data"
    }
   ],
   "source": [
    "\n",
    "churned_paperless_billed_mean = churned_df.enc_paperless_billing.mean()\n",
    "\n",
    "non_churned_paperless_billed_mean = non_churned_df.enc_paperless_billing.mean()\n",
    "\n",
    "plt.figure(figsize = (15, 10))\n",
    "print()\n",
    "print(f'Churned customers using Paperless billing (mean): {churned_paperless_billed_mean:.2%}')\n",
    "print()\n",
    "print(f'Non-Churned customers using Paperless billing (mean): {non_churned_paperless_billed_mean:.2%}')\n",
    "print()\n",
    "print('------------------------------------------')\n",
    "print('--->  [[OBSERVATION]]: Equal proportion of churn vs no churn among phone customers alone')\n",
    "print('------------------------------------------')\n"
   ]
  },
  {
   "cell_type": "markdown",
   "id": "a62a0e38",
   "metadata": {},
   "source": [
    "# Key Summary Observations\n",
    "\n",
    "\n",
    "\n",
    "- ### Overall: Churning customers is approximately 1/3 of non-churning customers\n",
    "- ### Overall: Approximately 60% of Telco customers are using paperless billing\n",
    "- ### Churned customers using Paperless billing (mean): 71.63%\n",
    "\n"
   ]
  },
  {
   "cell_type": "markdown",
   "id": "4d087613",
   "metadata": {},
   "source": [
    "# STEP 5: Why are paperless billing less prefferable? \n",
    "\n",
    "# HYPOTHESIS \n",
    "\n",
    " \n",
    "##### Ho: Mean of churned customers using paperless billing  = mean of non-churned customers not using paperless billing\n",
    "\n",
    "\n",
    "##### Ho: Mean of non-churned customers using paperless billing  > mean of non-churned customers not using paperless billing\n"
   ]
  },
  {
   "cell_type": "markdown",
   "id": "ae2fca7d",
   "metadata": {},
   "source": [
    "# T-test Choice: Independent T-Test (One-sample t-test)\n",
    "-  compare two groups in our hypothesis"
   ]
  },
  {
   "cell_type": "markdown",
   "id": "773b3f52",
   "metadata": {},
   "source": [
    "\n",
    "# Churned Baseline\n",
    "\n",
    "#### Churned Paperless Billing: 71.63%\n"
   ]
  },
  {
   "cell_type": "markdown",
   "id": "c9531272",
   "metadata": {},
   "source": [
    "# Compare variance\n",
    "\n",
    ">-  --> Un-equal variance"
   ]
  },
  {
   "cell_type": "code",
   "execution_count": 17,
   "id": "5c3ca27d",
   "metadata": {},
   "outputs": [
    {
     "name": "stdout",
     "output_type": "stream",
     "text": [
      "\n",
      "\tChurned Sample Variances: 0.20322821360030022\n",
      "\n",
      "\tNon-Churned Sample Variances: 0.24685819607788256\n",
      "\n"
     ]
    }
   ],
   "source": [
    "churn_paperless_sample = train_df[train_df.enc_churn == 1].enc_paperless_billing\n",
    "no_churn_paperless_sample = train_df[train_df.enc_churn == 0].enc_paperless_billing\n",
    "\n",
    "\n",
    "print(f'\\n\\tChurned Sample Variances: {churn_paperless_sample.var()}\\n')\n",
    "\n",
    "print(f'\\tNon-Churned Sample Variances: {no_churn_paperless_sample.var()}\\n')"
   ]
  },
  {
   "cell_type": "markdown",
   "id": "040e16a5",
   "metadata": {},
   "source": [
    "## Set our alpha score (% confidence level)"
   ]
  },
  {
   "cell_type": "code",
   "execution_count": 18,
   "id": "4a7a9f98",
   "metadata": {},
   "outputs": [
    {
     "name": "stdout",
     "output_type": "stream",
     "text": [
      "\n",
      "\tT-value: 348.7902903535163 \n",
      "\n",
      "\tP-value: 0.0\n",
      "\n"
     ]
    }
   ],
   "source": [
    "alpha = 0.05 \n",
    "\n",
    "# variance not same, we'll set equal_var to false\n",
    "t, p = stats.ttest_ind(churn_paperless_sample, no_churn_paperless_sample, equal_var=False)\n",
    "print()\n",
    "print(f'\\tT-value: {t} \\n\\n\\tP-value: {p}\\n')\n"
   ]
  },
  {
   "cell_type": "code",
   "execution_count": 19,
   "id": "193b1a31",
   "metadata": {},
   "outputs": [
    {
     "name": "stdout",
     "output_type": "stream",
     "text": [
      "\n",
      "\tWe reject HO (Accept H1):-> \n",
      "\n",
      "Mean of churned customers using paperless billing  = mean of non-churned customers not using paperless billing\n",
      "\n",
      "\n",
      "\n",
      "Adapted hypothesis:\n",
      "\n",
      "= Mean of churned customers using paperless billing  > mean of non-churned customers not using paperless billing \n",
      "\n"
     ]
    }
   ],
   "source": [
    "\n",
    "HO = 'Mean of churned customers using paperless billing  = mean of non-churned customers not using paperless billing'\n",
    "\n",
    "H1 = 'Mean of churned customers using paperless billing  > mean of non-churned customers not using paperless billing'\n",
    "\n",
    "if (p) > alpha:\n",
    "    print(f'\\tFailed to reject HO:-> \\n\\n{HO}')\n",
    "elif t < 0:\n",
    "    print(f'\\tFailed to reject HO:-> \\n\\n{HO}') \n",
    "else:\n",
    "    print()\n",
    "    print(f'\\tWe reject HO (Accept H1):-> \\n\\n{HO}')\n",
    "    print('\\n\\n\\nAdapted hypothesis:\\n')\n",
    "    print(f'= {H1} \\n')\n",
    "    \n"
   ]
  },
  {
   "cell_type": "markdown",
   "id": "61c22394",
   "metadata": {},
   "source": [
    "# Reject Null hypothesis\n",
    "\n",
    "### Mean of churned customers using paperless billing  = mean of non-churned customers not using paperless billing"
   ]
  },
  {
   "cell_type": "markdown",
   "id": "19f44d98",
   "metadata": {},
   "source": [
    "# Adapted hypothesis\n",
    "\n",
    "### Mean of churned customers using paperless billing  > mean of non-churned customers not using paperless billing"
   ]
  },
  {
   "cell_type": "markdown",
   "id": "c855a955",
   "metadata": {},
   "source": [
    "# Evaluation\n",
    "\n",
    "### Purpose: Determine accuracy of our concluded hypothesis\n",
    "\n",
    "### Common Evaluation metrics:\n",
    "-  Accuracy - number of times we predict correctly\n",
    "-  Precision - % of +ve predictions that we made are correct\n",
    "-  Recall - % of +ve individual cases we predicted correct\n",
    "\n",
    "\n",
    "## model to test the accuracy that churned paperless customers > non-churned customers using paperless billing"
   ]
  },
  {
   "cell_type": "markdown",
   "id": "5bbaf02f",
   "metadata": {},
   "source": [
    "# STEP 6: Modeling I: Decision Tree\n",
    "\n",
    ">- ## Exploration and training on the train dataset\n",
    ">- ## Tune model on validate \n",
    ">- ## Verify tuned model on test "
   ]
  },
  {
   "cell_type": "code",
   "execution_count": 20,
   "id": "80572f3b",
   "metadata": {},
   "outputs": [],
   "source": [
    "# create X & y version of train, where y is a series with just the target variable and X are all the features. \n",
    "\n",
    "X_train = train_df.drop(columns=['enc_churn'])\n",
    "y_train = train_df.enc_churn\n",
    "\n",
    "X_validate = validate_df.drop(columns=['enc_churn'])\n",
    "y_validate = validate_df.enc_churn\n",
    "\n",
    "X_test = test_df.drop(columns=['enc_churn'])\n",
    "y_test = test_df.enc_churn"
   ]
  },
  {
   "cell_type": "markdown",
   "id": "bcb1473e",
   "metadata": {},
   "source": [
    ">#### (1). Create decision tree object "
   ]
  },
  {
   "cell_type": "code",
   "execution_count": 33,
   "id": "9815e48f",
   "metadata": {},
   "outputs": [],
   "source": [
    "# for classification you can change the algorithm to gini or entropy (information gain).  \n",
    "# Default is gini.\n",
    "\n",
    "clf = DecisionTreeClassifier(max_depth=3, random_state = 123)\n"
   ]
  },
  {
   "cell_type": "markdown",
   "id": "4e32f60c",
   "metadata": {},
   "source": [
    "> #### (ii) Fit the model\n",
    "\n",
    "> --> Fit random forest algorithm to training data"
   ]
  },
  {
   "cell_type": "code",
   "execution_count": 37,
   "id": "2a80b0b0",
   "metadata": {},
   "outputs": [
    {
     "ename": "ValueError",
     "evalue": "Input contains NaN, infinity or a value too large for dtype('float32').",
     "output_type": "error",
     "traceback": [
      "\u001b[0;31m---------------------------------------------------------------------------\u001b[0m",
      "\u001b[0;31mValueError\u001b[0m                                Traceback (most recent call last)",
      "\u001b[0;32m/var/folders/b2/3fdswr7x4v5fhdt54wpcfmdw0000gn/T/ipykernel_3849/1022023971.py\u001b[0m in \u001b[0;36m<module>\u001b[0;34m\u001b[0m\n\u001b[1;32m      1\u001b[0m \u001b[0;31m# Model.fit(X, y)\u001b[0m\u001b[0;34m\u001b[0m\u001b[0;34m\u001b[0m\u001b[0m\n\u001b[1;32m      2\u001b[0m \u001b[0;34m\u001b[0m\u001b[0m\n\u001b[0;32m----> 3\u001b[0;31m \u001b[0mclf\u001b[0m \u001b[0;34m=\u001b[0m \u001b[0mclf\u001b[0m\u001b[0;34m.\u001b[0m\u001b[0mfit\u001b[0m\u001b[0;34m(\u001b[0m\u001b[0mX_train\u001b[0m\u001b[0;34m,\u001b[0m \u001b[0my_train\u001b[0m\u001b[0;34m)\u001b[0m\u001b[0;34m\u001b[0m\u001b[0;34m\u001b[0m\u001b[0m\n\u001b[0m",
      "\u001b[0;32m/usr/local/anaconda3/lib/python3.9/site-packages/sklearn/tree/_classes.py\u001b[0m in \u001b[0;36mfit\u001b[0;34m(self, X, y, sample_weight, check_input, X_idx_sorted)\u001b[0m\n\u001b[1;32m    935\u001b[0m         \"\"\"\n\u001b[1;32m    936\u001b[0m \u001b[0;34m\u001b[0m\u001b[0m\n\u001b[0;32m--> 937\u001b[0;31m         super().fit(\n\u001b[0m\u001b[1;32m    938\u001b[0m             \u001b[0mX\u001b[0m\u001b[0;34m,\u001b[0m\u001b[0;34m\u001b[0m\u001b[0;34m\u001b[0m\u001b[0m\n\u001b[1;32m    939\u001b[0m             \u001b[0my\u001b[0m\u001b[0;34m,\u001b[0m\u001b[0;34m\u001b[0m\u001b[0;34m\u001b[0m\u001b[0m\n",
      "\u001b[0;32m/usr/local/anaconda3/lib/python3.9/site-packages/sklearn/tree/_classes.py\u001b[0m in \u001b[0;36mfit\u001b[0;34m(self, X, y, sample_weight, check_input, X_idx_sorted)\u001b[0m\n\u001b[1;32m    163\u001b[0m             \u001b[0mcheck_X_params\u001b[0m \u001b[0;34m=\u001b[0m \u001b[0mdict\u001b[0m\u001b[0;34m(\u001b[0m\u001b[0mdtype\u001b[0m\u001b[0;34m=\u001b[0m\u001b[0mDTYPE\u001b[0m\u001b[0;34m,\u001b[0m \u001b[0maccept_sparse\u001b[0m\u001b[0;34m=\u001b[0m\u001b[0;34m\"csc\"\u001b[0m\u001b[0;34m)\u001b[0m\u001b[0;34m\u001b[0m\u001b[0;34m\u001b[0m\u001b[0m\n\u001b[1;32m    164\u001b[0m             \u001b[0mcheck_y_params\u001b[0m \u001b[0;34m=\u001b[0m \u001b[0mdict\u001b[0m\u001b[0;34m(\u001b[0m\u001b[0mensure_2d\u001b[0m\u001b[0;34m=\u001b[0m\u001b[0;32mFalse\u001b[0m\u001b[0;34m,\u001b[0m \u001b[0mdtype\u001b[0m\u001b[0;34m=\u001b[0m\u001b[0;32mNone\u001b[0m\u001b[0;34m)\u001b[0m\u001b[0;34m\u001b[0m\u001b[0;34m\u001b[0m\u001b[0m\n\u001b[0;32m--> 165\u001b[0;31m             X, y = self._validate_data(\n\u001b[0m\u001b[1;32m    166\u001b[0m                 \u001b[0mX\u001b[0m\u001b[0;34m,\u001b[0m \u001b[0my\u001b[0m\u001b[0;34m,\u001b[0m \u001b[0mvalidate_separately\u001b[0m\u001b[0;34m=\u001b[0m\u001b[0;34m(\u001b[0m\u001b[0mcheck_X_params\u001b[0m\u001b[0;34m,\u001b[0m \u001b[0mcheck_y_params\u001b[0m\u001b[0;34m)\u001b[0m\u001b[0;34m\u001b[0m\u001b[0;34m\u001b[0m\u001b[0m\n\u001b[1;32m    167\u001b[0m             )\n",
      "\u001b[0;32m/usr/local/anaconda3/lib/python3.9/site-packages/sklearn/base.py\u001b[0m in \u001b[0;36m_validate_data\u001b[0;34m(self, X, y, reset, validate_separately, **check_params)\u001b[0m\n\u001b[1;32m    576\u001b[0m                 \u001b[0;31m# :(\u001b[0m\u001b[0;34m\u001b[0m\u001b[0;34m\u001b[0m\u001b[0m\n\u001b[1;32m    577\u001b[0m                 \u001b[0mcheck_X_params\u001b[0m\u001b[0;34m,\u001b[0m \u001b[0mcheck_y_params\u001b[0m \u001b[0;34m=\u001b[0m \u001b[0mvalidate_separately\u001b[0m\u001b[0;34m\u001b[0m\u001b[0;34m\u001b[0m\u001b[0m\n\u001b[0;32m--> 578\u001b[0;31m                 \u001b[0mX\u001b[0m \u001b[0;34m=\u001b[0m \u001b[0mcheck_array\u001b[0m\u001b[0;34m(\u001b[0m\u001b[0mX\u001b[0m\u001b[0;34m,\u001b[0m \u001b[0;34m**\u001b[0m\u001b[0mcheck_X_params\u001b[0m\u001b[0;34m)\u001b[0m\u001b[0;34m\u001b[0m\u001b[0;34m\u001b[0m\u001b[0m\n\u001b[0m\u001b[1;32m    579\u001b[0m                 \u001b[0my\u001b[0m \u001b[0;34m=\u001b[0m \u001b[0mcheck_array\u001b[0m\u001b[0;34m(\u001b[0m\u001b[0my\u001b[0m\u001b[0;34m,\u001b[0m \u001b[0;34m**\u001b[0m\u001b[0mcheck_y_params\u001b[0m\u001b[0;34m)\u001b[0m\u001b[0;34m\u001b[0m\u001b[0;34m\u001b[0m\u001b[0m\n\u001b[1;32m    580\u001b[0m             \u001b[0;32melse\u001b[0m\u001b[0;34m:\u001b[0m\u001b[0;34m\u001b[0m\u001b[0;34m\u001b[0m\u001b[0m\n",
      "\u001b[0;32m/usr/local/anaconda3/lib/python3.9/site-packages/sklearn/utils/validation.py\u001b[0m in \u001b[0;36mcheck_array\u001b[0;34m(array, accept_sparse, accept_large_sparse, dtype, order, copy, force_all_finite, ensure_2d, allow_nd, ensure_min_samples, ensure_min_features, estimator)\u001b[0m\n\u001b[1;32m    798\u001b[0m \u001b[0;34m\u001b[0m\u001b[0m\n\u001b[1;32m    799\u001b[0m         \u001b[0;32mif\u001b[0m \u001b[0mforce_all_finite\u001b[0m\u001b[0;34m:\u001b[0m\u001b[0;34m\u001b[0m\u001b[0;34m\u001b[0m\u001b[0m\n\u001b[0;32m--> 800\u001b[0;31m             \u001b[0m_assert_all_finite\u001b[0m\u001b[0;34m(\u001b[0m\u001b[0marray\u001b[0m\u001b[0;34m,\u001b[0m \u001b[0mallow_nan\u001b[0m\u001b[0;34m=\u001b[0m\u001b[0mforce_all_finite\u001b[0m \u001b[0;34m==\u001b[0m \u001b[0;34m\"allow-nan\"\u001b[0m\u001b[0;34m)\u001b[0m\u001b[0;34m\u001b[0m\u001b[0;34m\u001b[0m\u001b[0m\n\u001b[0m\u001b[1;32m    801\u001b[0m \u001b[0;34m\u001b[0m\u001b[0m\n\u001b[1;32m    802\u001b[0m     \u001b[0;32mif\u001b[0m \u001b[0mensure_min_samples\u001b[0m \u001b[0;34m>\u001b[0m \u001b[0;36m0\u001b[0m\u001b[0;34m:\u001b[0m\u001b[0;34m\u001b[0m\u001b[0;34m\u001b[0m\u001b[0m\n",
      "\u001b[0;32m/usr/local/anaconda3/lib/python3.9/site-packages/sklearn/utils/validation.py\u001b[0m in \u001b[0;36m_assert_all_finite\u001b[0;34m(X, allow_nan, msg_dtype)\u001b[0m\n\u001b[1;32m    112\u001b[0m         ):\n\u001b[1;32m    113\u001b[0m             \u001b[0mtype_err\u001b[0m \u001b[0;34m=\u001b[0m \u001b[0;34m\"infinity\"\u001b[0m \u001b[0;32mif\u001b[0m \u001b[0mallow_nan\u001b[0m \u001b[0;32melse\u001b[0m \u001b[0;34m\"NaN, infinity\"\u001b[0m\u001b[0;34m\u001b[0m\u001b[0;34m\u001b[0m\u001b[0m\n\u001b[0;32m--> 114\u001b[0;31m             raise ValueError(\n\u001b[0m\u001b[1;32m    115\u001b[0m                 msg_err.format(\n\u001b[1;32m    116\u001b[0m                     \u001b[0mtype_err\u001b[0m\u001b[0;34m,\u001b[0m \u001b[0mmsg_dtype\u001b[0m \u001b[0;32mif\u001b[0m \u001b[0mmsg_dtype\u001b[0m \u001b[0;32mis\u001b[0m \u001b[0;32mnot\u001b[0m \u001b[0;32mNone\u001b[0m \u001b[0;32melse\u001b[0m \u001b[0mX\u001b[0m\u001b[0;34m.\u001b[0m\u001b[0mdtype\u001b[0m\u001b[0;34m\u001b[0m\u001b[0;34m\u001b[0m\u001b[0m\n",
      "\u001b[0;31mValueError\u001b[0m: Input contains NaN, infinity or a value too large for dtype('float32')."
     ]
    }
   ],
   "source": [
    "# Model.fit(X, y)\n",
    "\n",
    "clf = clf.fit(X_train, y_train)"
   ]
  },
  {
   "cell_type": "code",
   "execution_count": 41,
   "id": "75bcb945",
   "metadata": {},
   "outputs": [],
   "source": [
    "# Drop remaining categogical columns \n",
    "\n",
    "X_train = X_train.drop(columns = ['churn', 'multiple_lines','tech_support'])"
   ]
  },
  {
   "cell_type": "markdown",
   "id": "0b0981b2",
   "metadata": {},
   "source": [
    "> #### (iii). Make predictions\n",
    "\n",
    "> --> Classify each paperless billing data by its estimated churn"
   ]
  },
  {
   "cell_type": "code",
   "execution_count": null,
   "id": "64846283",
   "metadata": {},
   "outputs": [],
   "source": [
    "# make prediction on train obeservations\n",
    "\n",
    "y_pred = clf.predict(X_train)\n",
    "y_pred[0:5]"
   ]
  },
  {
   "cell_type": "markdown",
   "id": "267b560e",
   "metadata": {},
   "source": [
    "> #### (iv). Estimate Probability\n",
    "\n",
    "> --> Estimate the probability each churn using train data"
   ]
  },
  {
   "cell_type": "code",
   "execution_count": 160,
   "id": "802c949b",
   "metadata": {},
   "outputs": [
    {
     "data": {
      "text/plain": [
       "array([[0.99059086, 0.00940914],\n",
       "       [0.94480417, 0.05519583],\n",
       "       [0.99059086, 0.00940914],\n",
       "       [0.63707197, 0.36292803],\n",
       "       [0.9701023 , 0.0298977 ]])"
      ]
     },
     "execution_count": 160,
     "metadata": {},
     "output_type": "execute_result"
    }
   ],
   "source": [
    "y_pred_proba = clf.predict_proba(X_train)\n",
    "y_pred_proba[0:5]\n"
   ]
  },
  {
   "cell_type": "markdown",
   "id": "b1f8c49a",
   "metadata": {},
   "source": [
    "> ### Evaluate our model\n",
    ">> #### (a). Compute accuracy"
   ]
  },
  {
   "cell_type": "code",
   "execution_count": 161,
   "id": "66d58c48",
   "metadata": {},
   "outputs": [
    {
     "name": "stdout",
     "output_type": "stream",
     "text": [
      "Model accuracy: \n",
      "Decision Tree classifier on training set: 0.76\n"
     ]
    }
   ],
   "source": [
    "print('Model accuracy: ')\n",
    "print('Decision Tree classifier on training set: {:.2f}'\n",
    "      .format(clf.score(X_train, y_train)))"
   ]
  },
  {
   "cell_type": "markdown",
   "id": "539ba038",
   "metadata": {},
   "source": [
    ">> #### (b). Confusion matrix"
   ]
  },
  {
   "cell_type": "code",
   "execution_count": 162,
   "id": "567981fe",
   "metadata": {},
   "outputs": [
    {
     "data": {
      "text/plain": [
       "array([[4150754,       0],\n",
       "       [1339039,       0]])"
      ]
     },
     "execution_count": 162,
     "metadata": {},
     "output_type": "execute_result"
    }
   ],
   "source": [
    "# confusion matrix\n",
    "\n",
    "confusion_matrix(y_train, y_pred)\n"
   ]
  },
  {
   "cell_type": "code",
   "execution_count": 163,
   "id": "a7d54de6",
   "metadata": {},
   "outputs": [
    {
     "data": {
      "text/plain": [
       "0    4150754\n",
       "1    1339039\n",
       "Name: enc_churn, dtype: int64"
      ]
     },
     "execution_count": 163,
     "metadata": {},
     "output_type": "execute_result"
    }
   ],
   "source": [
    "# Count of y_train sets\n",
    "\n",
    "y_train.value_counts()\n"
   ]
  },
  {
   "cell_type": "markdown",
   "id": "9e9e1e5a",
   "metadata": {},
   "source": [
    ">> #### (c). Classification report"
   ]
  },
  {
   "cell_type": "code",
   "execution_count": 164,
   "id": "6ec45bab",
   "metadata": {},
   "outputs": [
    {
     "data": {
      "text/html": [
       "<div>\n",
       "<style scoped>\n",
       "    .dataframe tbody tr th:only-of-type {\n",
       "        vertical-align: middle;\n",
       "    }\n",
       "\n",
       "    .dataframe tbody tr th {\n",
       "        vertical-align: top;\n",
       "    }\n",
       "\n",
       "    .dataframe thead th {\n",
       "        text-align: right;\n",
       "    }\n",
       "</style>\n",
       "<table border=\"1\" class=\"dataframe\">\n",
       "  <thead>\n",
       "    <tr style=\"text-align: right;\">\n",
       "      <th></th>\n",
       "      <th>0</th>\n",
       "      <th>1</th>\n",
       "    </tr>\n",
       "  </thead>\n",
       "  <tbody>\n",
       "    <tr>\n",
       "      <th>0</th>\n",
       "      <td>4150754</td>\n",
       "      <td>0</td>\n",
       "    </tr>\n",
       "    <tr>\n",
       "      <th>1</th>\n",
       "      <td>1339039</td>\n",
       "      <td>0</td>\n",
       "    </tr>\n",
       "  </tbody>\n",
       "</table>\n",
       "</div>"
      ],
      "text/plain": [
       "         0  1\n",
       "0  4150754  0\n",
       "1  1339039  0"
      ]
     },
     "execution_count": 164,
     "metadata": {},
     "output_type": "execute_result"
    }
   ],
   "source": [
    "# Confusion matrix \n",
    "\n",
    "\n",
    "labels = sorted(y_train.unique())\n",
    "\n",
    "pd.DataFrame(confusion_matrix(y_train, y_pred), index = labels, columns = labels)\n"
   ]
  },
  {
   "cell_type": "code",
   "execution_count": 59,
   "id": "e2cd30dc",
   "metadata": {},
   "outputs": [
    {
     "name": "stdout",
     "output_type": "stream",
     "text": [
      "              precision    recall  f1-score   support\n",
      "\n",
      "           0       0.76      1.00      0.86   4150754\n",
      "           1       0.00      0.00      0.00   1339039\n",
      "\n",
      "    accuracy                           0.76   5489793\n",
      "   macro avg       0.38      0.50      0.43   5489793\n",
      "weighted avg       0.57      0.76      0.65   5489793\n",
      "\n"
     ]
    }
   ],
   "source": [
    "# Print classification report (summary)\n",
    "\n",
    "print(classification_report(y_train, y_pred))"
   ]
  },
  {
   "cell_type": "markdown",
   "id": "9dec4383",
   "metadata": {},
   "source": [
    ">> #### (d).  Evaluate model with validate dataset\n",
    "\n",
    "> --> NOTE: validate data is our \"out-of-sample\" -  no exploration was conducted on the set"
   ]
  },
  {
   "cell_type": "code",
   "execution_count": 135,
   "id": "86155b5c",
   "metadata": {},
   "outputs": [
    {
     "name": "stdout",
     "output_type": "stream",
     "text": [
      "-------------------------------------------------------------\n",
      "\n",
      "Accuracy of Decision Tree classifier on validate set: 0.75\n",
      "\n",
      "-------------------------------------------------------------\n"
     ]
    }
   ],
   "source": [
    "print('-------------------------------------------------------------')\n",
    "\n",
    "print('\\nAccuracy of Decision Tree classifier on validate set: {:.2f}\\n'\n",
    "     .format(clf.score(X_validate, y_validate)))\n",
    "print('-------------------------------------------------------------')\n"
   ]
  },
  {
   "cell_type": "code",
   "execution_count": 64,
   "id": "9fe2b431",
   "metadata": {},
   "outputs": [
    {
     "name": "stdout",
     "output_type": "stream",
     "text": [
      "              precision    recall  f1-score   support\n",
      "\n",
      "           0       0.75      1.00      0.86   1841952\n",
      "           1       0.00      0.00      0.00    618573\n",
      "\n",
      "    accuracy                           0.75   2460525\n",
      "   macro avg       0.37      0.50      0.43   2460525\n",
      "weighted avg       0.56      0.75      0.64   2460525\n",
      "\n"
     ]
    }
   ],
   "source": [
    "# And since accuracy isn't everything\n",
    "\n",
    "# Produce y_predictions that come from the X_validate\n",
    "y_pred = clf.predict(X_validate)\n",
    "\n",
    "# Compare actual y values (from validate) to predicted y_values from the model run on X_validate\n",
    "print(classification_report(y_validate, y_pred))\n"
   ]
  },
  {
   "cell_type": "code",
   "execution_count": null,
   "id": "a35ba0e1",
   "metadata": {},
   "outputs": [],
   "source": []
  },
  {
   "cell_type": "markdown",
   "id": "b5556e73",
   "metadata": {},
   "source": [
    "># Modeling II: Random Forest \n"
   ]
  },
  {
   "cell_type": "code",
   "execution_count": 93,
   "id": "9da79ade",
   "metadata": {},
   "outputs": [
    {
     "name": "stdout",
     "output_type": "stream",
     "text": [
      "\n",
      "\tProgram Status: Reading cleaned train data from a local cached csv file...\n",
      "\n",
      "\tProgram Status: Reading cleaned validate data from a local cached csv file...\n",
      "\n",
      "\tProgram Status: Reading cleaned test data from a local cached csv file...\n",
      "\n",
      "\tTrain Data: (5497669, 14) \n",
      "\tValidate Data:(2463974, 14)\n",
      "\tTest Data: (2064720, 14)\n"
     ]
    }
   ],
   "source": [
    "# Split data and save separate files of train, validate, test (Data already imported, cleaned, split & saved)\n",
    "# train, validate, test = clean_split_telco_data(telco, seed = 123)\n",
    "\n",
    "# Verify split ratios\n",
    "train_df_rf = clean_train_data()\n",
    "validate_df_rf = clean_validate_data()\n",
    "test_df_rf = clean_test_data()\n",
    "\n",
    "print(f'\\n\\tTrain Data: {train.shape} \\n\\tValidate Data:{validate.shape}\\n\\tTest Data: {test.shape}')\n"
   ]
  },
  {
   "cell_type": "code",
   "execution_count": 94,
   "id": "66517123",
   "metadata": {},
   "outputs": [],
   "source": [
    "# Drop non-encoded columns\n",
    "\n",
    "train_df_rf = train_df_rf.drop(columns =['churn', 'multiple_lines', 'tech_support'])\n",
    "validate_df_rf = validate_df_rf.drop(columns =['churn', 'multiple_lines', 'tech_support'])\n",
    "test_df_rf = test_df_rf.drop(columns =['churn', 'multiple_lines', 'tech_support'])\n",
    "\n",
    "# Drop NaN Columns\n",
    "train_df_rf = train_df_rf.dropna()\n",
    "validate_df_rf = validate_df_rf.dropna()\n",
    "test_df_rf = test_df_rf.dropna()\n",
    "\n",
    "# create X & y version of train, where y is a series with just the target variable and X are all the features. \n",
    "\n",
    "X_train_rf = train_df_rf.drop(columns=['enc_churn'])\n",
    "y_train_rf = train_df_rf.enc_churn\n",
    "\n",
    "X_validate_rf = validate_df_rf.drop(columns=['enc_churn'])\n",
    "y_validate_rf = validate_df_rf.enc_churn\n",
    "\n",
    "X_test_rf = test_df_rf.drop(columns=['enc_churn'])\n",
    "y_test_rf = test_df_rf.enc_churn\n",
    "\n",
    "# Train the model\n",
    "rf = RandomForestClassifier(bootstrap=True, \n",
    "                            class_weight=None, \n",
    "                            criterion='gini',\n",
    "                            min_samples_leaf=3,\n",
    "                            n_estimators=100,\n",
    "                            max_depth=3, \n",
    "                            random_state=123)\n",
    "\n",
    "# Fit the model\n",
    "rf.fit(X_train_rf, y_train_rf)\n",
    "\n",
    "# Make prediction\n",
    "y_pred_rf = rf.predict(X_train_rf)\n",
    "y_pred_rf\n",
    "\n",
    "# Estimate probability\n",
    "y_pred_proba_rf = rf.predict_proba(X_train_rf)\n",
    "y_pred_proba_rf"
   ]
  },
  {
   "cell_type": "markdown",
   "id": "f4cecfdc",
   "metadata": {},
   "source": [
    "> ## Evaluate Random Forest Model Accuracy\n"
   ]
  },
  {
   "cell_type": "code",
   "execution_count": 123,
   "id": "e0c2b094",
   "metadata": {},
   "outputs": [
    {
     "name": "stdout",
     "output_type": "stream",
     "text": [
      "Accuracy of random forest classifier on training set: 0.76\n"
     ]
    }
   ],
   "source": [
    "print('Accuracy of random forest classifier on training set: {:.2f}'\n",
    "     .format(rf.score(X_train_rf, y_train_rf)))"
   ]
  },
  {
   "cell_type": "markdown",
   "id": "6397daf5",
   "metadata": {},
   "source": [
    "> ### Evaluate out of sample data"
   ]
  },
  {
   "cell_type": "code",
   "execution_count": 134,
   "id": "aed7b86a",
   "metadata": {},
   "outputs": [
    {
     "name": "stdout",
     "output_type": "stream",
     "text": [
      "-------------------------------------------------------------\n",
      "\n",
      "Accuracy of random forest classifier on test set: 0.75\n",
      "\n",
      "-------------------------------------------------------------\n"
     ]
    }
   ],
   "source": [
    "print('-------------------------------------------------------------')\n",
    "print('\\nOut of sample random forest classifier on test set: {:.2f}\\n'\n",
    "     .format(rf.score(X_validate_rf, y_validate_rf)))\n",
    "print('-------------------------------------------------------------')\n"
   ]
  },
  {
   "cell_type": "markdown",
   "id": "4bd47d60",
   "metadata": {},
   "source": [
    "># Modeling III: K-Nearest Neighbor\n"
   ]
  },
  {
   "cell_type": "code",
   "execution_count": 306,
   "id": "e3ff7372",
   "metadata": {},
   "outputs": [],
   "source": [
    "# Split data and save separate files of train, validate, test (Data already imported, cleaned, split & saved)\n",
    "# train, validate, test = clean_split_telco_data(telco, seed = 123)\n",
    "\n",
    "# Verify split ratios\n",
    "train_df_knn = clean_train_data()\n",
    "validate_df_knn = clean_validate_data()\n",
    "test_df_knn = clean_test_data()\n",
    "\n",
    "print(f'\\n\\tTrain Data: {train.shape} \\n\\tValidate Data:{validate.shape}\\n\\tTest Data: {test.shape}')\n",
    "\n",
    "# Drop non-encoded columns\n",
    "train_df_knn = train_df_knn.drop(columns =['churn', 'multiple_lines', 'tech_support'])\n",
    "validate_df_knn = validate_df_knn.drop(columns =['churn', 'multiple_lines', 'tech_support'])\n",
    "test_df_knn = test_df_knn.drop(columns =['churn', 'multiple_lines', 'tech_support'])\n",
    "\n",
    "# Drop NaN Columns\n",
    "train_df_knn = train_df_knn.dropna()\n",
    "validate_df_knn = validate_df_knn.dropna()\n",
    "test_df_knn = test_df_knn.dropna()\n",
    "\n",
    "# create X & y version of train, where y is a series with just the target variable and X are all the features. \n",
    "X_train_knn = train_df_knn.drop(columns=['enc_churn'])\n",
    "y_train_knn = train_df_knn.enc_churn\n",
    "\n",
    "X_validate_knn = validate_df_knn.drop(columns=['enc_churn'])\n",
    "y_validate_knn = validate_df_knn.enc_churn\n",
    "\n",
    "X_test_knn = test_df_knn.drop(columns=['enc_churn'])\n",
    "y_test_knn = test_df_knn.enc_churn\n",
    "\n",
    "\n",
    "# Train the model\n",
    "# weights = ['uniform', 'density']\n",
    "knn = KNeighborsClassifier(n_neighbors=5, weights = 'uniform')\n",
    "\n",
    "#fit the model\n",
    "knn.fit(X_train_knn, y_train_knn)\n",
    "\n",
    "# Make prediction\n",
    "y_pred_knn = knn.predict(X_train_knn)\n",
    "\n",
    "# Estimate probability\n",
    "y_pred_proba_knn = knn.predict_proba(X_train_knn)\n"
   ]
  },
  {
   "cell_type": "markdown",
   "id": "afd86980",
   "metadata": {},
   "source": [
    "## Evaluate the K-Nearest Neighbor model"
   ]
  },
  {
   "cell_type": "code",
   "execution_count": 169,
   "id": "ec89efea",
   "metadata": {},
   "outputs": [
    {
     "name": "stdout",
     "output_type": "stream",
     "text": [
      "-------------------------------------------------------------\n",
      "Accuracy of KNN classifier on training set: 0.82\n",
      "-------------------------------------------------------------\n"
     ]
    }
   ],
   "source": [
    "print('-------------------------------------------------------------')\n",
    "\n",
    "print('Accuracy of KNN classifier on training set: {:.2f}'\n",
    "     .format(knn.score(X_train_knn, y_train_knn)))\n",
    "print('-------------------------------------------------------------')\n"
   ]
  },
  {
   "cell_type": "markdown",
   "id": "59fd3c2f",
   "metadata": {},
   "source": [
    ">### Classification matrix"
   ]
  },
  {
   "cell_type": "code",
   "execution_count": 214,
   "id": "e0afb9a0",
   "metadata": {},
   "outputs": [
    {
     "name": "stdout",
     "output_type": "stream",
     "text": [
      "              precision    recall  f1-score   support\n",
      "\n",
      "           0       0.86      0.91      0.88   4150754\n",
      "           1       0.65      0.53      0.58   1339039\n",
      "\n",
      "    accuracy                           0.82   5489793\n",
      "   macro avg       0.75      0.72      0.73   5489793\n",
      "weighted avg       0.81      0.82      0.81   5489793\n",
      "\n"
     ]
    }
   ],
   "source": [
    "print(classification_report(y_train_knn, y_pred_knn))"
   ]
  },
  {
   "cell_type": "markdown",
   "id": "0406ae79",
   "metadata": {},
   "source": [
    "### Out-of-sample evaulation\n"
   ]
  },
  {
   "cell_type": "code",
   "execution_count": 328,
   "id": "5d3aa570",
   "metadata": {},
   "outputs": [
    {
     "name": "stdout",
     "output_type": "stream",
     "text": [
      "-------------------------------------------------------------\n",
      "Accuracy of k-nearest neighbor classifier on test set: 0.74\n",
      "-------------------------------------------------------------\n"
     ]
    }
   ],
   "source": [
    "print('-------------------------------------------------------------')\n",
    "print('Accuracy of k-nearest neighbor classifier on test set: {:.2f}'\n",
    "     .format(knn.score(X_validate_knn, y_validate_knn)))\n",
    "print('-------------------------------------------------------------')\n"
   ]
  },
  {
   "cell_type": "markdown",
   "id": "757e1d32",
   "metadata": {},
   "source": [
    "# STEP 7: Testing"
   ]
  },
  {
   "cell_type": "code",
   "execution_count": 330,
   "id": "83daea5c",
   "metadata": {},
   "outputs": [
    {
     "name": "stdout",
     "output_type": "stream",
     "text": [
      "Accuracy of KNN (best model) classifier on test set: 0.74\n"
     ]
    }
   ],
   "source": [
    "print('Accuracy of KNN (best model) classifier on test set: {:.2f}'\n",
    "     .format(knn.score(X_test_knn, y_test_knn)))\n"
   ]
  },
  {
   "cell_type": "markdown",
   "id": "d0f8f75a",
   "metadata": {},
   "source": [
    "# Save predictions to csv"
   ]
  },
  {
   "cell_type": "code",
   "execution_count": null,
   "id": "31e0a420",
   "metadata": {},
   "outputs": [],
   "source": []
  },
  {
   "cell_type": "markdown",
   "id": "2a405422",
   "metadata": {},
   "source": [
    "# Summary & Conclusion\n",
    "\n",
    ">## Three models classification report summary:"
   ]
  },
  {
   "cell_type": "markdown",
   "id": "1b6ea08a",
   "metadata": {},
   "source": [
    ">## Model I (Decision Tree)"
   ]
  },
  {
   "cell_type": "code",
   "execution_count": 308,
   "id": "3a29fb82",
   "metadata": {},
   "outputs": [
    {
     "name": "stdout",
     "output_type": "stream",
     "text": [
      "              precision    recall  f1-score   support\n",
      "\n",
      "           0       0.76      1.00      0.86   4150754\n",
      "           1       0.00      0.00      0.00   1339039\n",
      "\n",
      "    accuracy                           0.76   5489793\n",
      "   macro avg       0.38      0.50      0.43   5489793\n",
      "weighted avg       0.57      0.76      0.65   5489793\n",
      "\n"
     ]
    }
   ],
   "source": [
    "# Print classification report (summary)\n",
    "\n",
    "print(classification_report(y_train, y_pred))"
   ]
  },
  {
   "cell_type": "markdown",
   "id": "c115cacb",
   "metadata": {},
   "source": [
    "##### Decision tree out of sample on validate data: 75%\n"
   ]
  },
  {
   "cell_type": "markdown",
   "id": "b69c343f",
   "metadata": {},
   "source": [
    ">## Model II (Random Forest)"
   ]
  },
  {
   "cell_type": "code",
   "execution_count": 307,
   "id": "a0f42577",
   "metadata": {},
   "outputs": [
    {
     "name": "stdout",
     "output_type": "stream",
     "text": [
      "              precision    recall  f1-score   support\n",
      "\n",
      "           0       0.76      1.00      0.86   4150754\n",
      "           1       0.00      0.00      0.00   1339039\n",
      "\n",
      "    accuracy                           0.76   5489793\n",
      "   macro avg       0.38      0.50      0.43   5489793\n",
      "weighted avg       0.57      0.76      0.65   5489793\n",
      "\n"
     ]
    }
   ],
   "source": [
    "print(classification_report(y_train_rf, y_pred_rf))"
   ]
  },
  {
   "cell_type": "markdown",
   "id": "61341b05",
   "metadata": {},
   "source": [
    "##### Random forest out-of-sample on validate: 0.75\n"
   ]
  },
  {
   "cell_type": "markdown",
   "id": "237d9c83",
   "metadata": {},
   "source": [
    "> ## Model III (K-Nearest Forest)"
   ]
  },
  {
   "cell_type": "code",
   "execution_count": 309,
   "id": "562c51c5",
   "metadata": {},
   "outputs": [
    {
     "name": "stdout",
     "output_type": "stream",
     "text": [
      "              precision    recall  f1-score   support\n",
      "\n",
      "           0       0.86      0.91      0.88   4150754\n",
      "           1       0.65      0.53      0.58   1339039\n",
      "\n",
      "    accuracy                           0.82   5489793\n",
      "   macro avg       0.75      0.72      0.73   5489793\n",
      "weighted avg       0.81      0.82      0.81   5489793\n",
      "\n"
     ]
    }
   ],
   "source": [
    "print(classification_report(y_train_knn, y_pred_knn))"
   ]
  },
  {
   "cell_type": "markdown",
   "id": "842a5080",
   "metadata": {},
   "source": [
    "##### KNN out-of-sample accuracy on validate smample: 74%\n"
   ]
  },
  {
   "cell_type": "markdown",
   "id": "862ed6e3",
   "metadata": {},
   "source": [
    "# Model Selection\n",
    "\n",
    "\n",
    "### From the classification report we can conclude that Model III yields us the best accuracy for our data of 82%. Model I and model II both have an accuracy of 76%. This project will adapt model three and adapt the alternate hypothesis that \"Mean of churned customers using paperless billing  > mean of non-churned customers not using paperless billing\". \n",
    "\n",
    "\n",
    "# Best Model III \n",
    "__Accuracy: 82%__- (correct predictions over total instances)\n",
    "\n",
    "\n",
    "__Precision: churn: 65% | non-churn: 86%__ (higher score --> pinpointed all +ves, low score --> predict lots of +ves here none)\n",
    "\n",
    "\n",
    "__Recall: churn: 0.53 | non-churn: 0.91__ (higher score --> miss lots of +ves, low score --> not predicting +ve as they should)\n",
    "\n",
    "\n",
    "### Future build on this project(or with more time):\n",
    "\n",
    "- Consider tweaking other features within the data set to include:\n",
    "           - How the high rate in the phone service affect accuracy in paperless billing \n",
    "           - Whether a user has multiple lines or not\n",
    "           - Is the phone line bundled with the internet service?\n",
    "           - Lenght of tenure with the company\n",
    "           - If the customer is a senior citizen or not\n",
    "           \n",
    "           \n",
    "## We have a prediction of 82% accuracy that paperless billing contributed to churning. \n",
    "\n",
    "# Recommendation: \n",
    "\n",
    "\n",
    "## Re-introduce paper billing to our customers and evaluate the effect 6 months then perform the same test with new dataset.\n",
    "\n",
    "#### This project is not exhaustive to other factors and it is possible that other factors contribute to churning. \n",
    "\n",
    "\n",
    "\n"
   ]
  }
 ],
 "metadata": {
  "kernelspec": {
   "display_name": "Python 3 (ipykernel)",
   "language": "python",
   "name": "python3"
  },
  "language_info": {
   "codemirror_mode": {
    "name": "ipython",
    "version": 3
   },
   "file_extension": ".py",
   "mimetype": "text/x-python",
   "name": "python",
   "nbconvert_exporter": "python",
   "pygments_lexer": "ipython3",
   "version": "3.9.7"
  }
 },
 "nbformat": 4,
 "nbformat_minor": 5
}
